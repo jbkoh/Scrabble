{
 "cells": [
  {
   "cell_type": "code",
   "execution_count": 105,
   "metadata": {
    "collapsed": false
   },
   "outputs": [],
   "source": [
    "import rdflib\n",
    "import pandas as pd\n",
    "import json\n",
    "import re\n",
    "from functools import reduce\n",
    "import os\n",
    "from brick_parser import equipTagsetList as equip_tagsets,\\\n",
    "                         pointTagsetList as point_tagsets,\\\n",
    "                         locationTagsetList as location_tagsets"
   ]
  },
  {
   "cell_type": "code",
   "execution_count": 106,
   "metadata": {
    "collapsed": true
   },
   "outputs": [],
   "source": [
    "split_dict = {\n",
    "    'ztmp': ['z', 'tmp'],\n",
    "    'zco': ['z', 'co'],\n",
    "    'zco2': ['z', 'co2'],\n",
    "    'airflow': ['air', 'flow'],\n",
    "    'hwv': ['hw', 'v']\n",
    "}"
   ]
  },
  {
   "cell_type": "code",
   "execution_count": 107,
   "metadata": {
    "collapsed": true
   },
   "outputs": [],
   "source": [
    "entity_dict = {\n",
    "    'vav': 'vav',\n",
    "    'CMU': 'rightidentifier',\n",
    "    'scsc': 'rightidentifier',\n",
    "    'gates': 'building-ghc',\n",
    "    'floor': 'floor',\n",
    "    'fcu': 'fcu',\n",
    "    'corridor': 'room-corridor',\n",
    "    #'central': 'leftidentifier',\n",
    "    #'west': 'leftidentifier',\n",
    "    'room': 'room',\n",
    "    'crac': 'crac',\n",
    "    #'office': 'leftidentifier',\n",
    "    'chilled water wystem': 'chilled_water_system',\n",
    "    'fan coil': 'fan_coil_unit'\n",
    "    \n",
    "}"
   ]
  },
  {
   "cell_type": "code",
   "execution_count": 108,
   "metadata": {
    "collapsed": true
   },
   "outputs": [],
   "source": [
    "def parse_sentence(sentence):                                                   \n",
    "    parsed = re.findall(\"([a-zA-Z]+|\\d+|[^0-9a-z])\", sentence.lower())\n",
    "    for key, splitted in split_dict.items():\n",
    "        if key in parsed:\n",
    "            idx = parsed.index(key)\n",
    "            parsed = parsed[:idx] + splitted + parsed[idx+1:]\n",
    "    return parsed"
   ]
  },
  {
   "cell_type": "code",
   "execution_count": 109,
   "metadata": {
    "collapsed": false
   },
   "outputs": [],
   "source": [
    "raw_df = pd.read_csv('metadata/CMU_GHC.csv')\n",
    "with open('metadata/ghc_points.json', 'r') as fp:\n",
    "    point_dict = json.load(fp)\n",
    "labelFilename = 'metadata/ghc_label_dict_justseparate.json'\n",
    "if os.path.isfile(labelFilename):\n",
    "    with open(labelFilename, 'r') as fp:\n",
    "        labelListDict = json.load(fp)\n",
    "else:\n",
    "    labelListDict = {}\n",
    "    \n",
    "with open('brick/equip_subclass_dict.json', 'r') as fp:\n",
    "    equip_subclass_dict = json.load(fp)"
   ]
  },
  {
   "cell_type": "code",
   "execution_count": 110,
   "metadata": {
    "collapsed": false
   },
   "outputs": [],
   "source": [
    "sentence_dict = dict()\n",
    "char_sentence_dict = dict()\n",
    "truths_dict = dict()\n",
    "def lister(x):\n",
    "    return [one_x for one_x in x]\n",
    "def adder(x,y):\n",
    "    return x+y\n",
    "for i, row in raw_df.iterrows():\n",
    "    srcid = str(i)\n",
    "    truths = list()\n",
    "    bas_raw = row['bas_raw']\n",
    "    sentence = parse_sentence(bas_raw.replace('/', '\\n'))\n",
    "    point_key = bas_raw.split('/')[-1].lower().replace(' ', '_')\n",
    "    try:\n",
    "        point_type = point_dict[point_key]\n",
    "    except:\n",
    "        short_point_key = '_'.join(point_key.split('_')[-2:])\n",
    "        try:\n",
    "            point_type = point_dict[short_point_key]\n",
    "        except:\n",
    "            print(point_key, '##', bas_raw)\n",
    "    if point_type != 'none':\n",
    "        truths.append(point_type)\n",
    "    if labelListDict.get(srcid):\n",
    "        # equip labels\n",
    "        labels = labelListDict[srcid]\n",
    "        for label in labels:\n",
    "            if equip_subclass_dict.get(label):\n",
    "                equip = label\n",
    "                subclasses = equip_subclass_dict[label]\n",
    "                for sub_label in labels:\n",
    "                    if sub_label==label:\n",
    "                        continue\n",
    "                    if sub_label + '_' + label in subclasses:\n",
    "                        equip = sub_label + '_' + label\n",
    "                truths.append(equip)\n",
    "        for label in labels:\n",
    "            if label.split('-')[0] in location_tagsets:\n",
    "                location = label\n",
    "                truths.append(location)\n",
    "        truths_dict[srcid] = truths\n",
    "    sentence_dict[srcid] = sentence\n",
    "    char_sentence_dict[srcid] = reduce(adder, map(lister, sentence))"
   ]
  },
  {
   "cell_type": "code",
   "execution_count": 111,
   "metadata": {
    "collapsed": false
   },
   "outputs": [],
   "source": [
    "with open('metadata/ghc_sentence_dict_justseparate.json', 'w') as fp:\n",
    "    json.dump(sentence_dict, fp, indent=2)\n",
    "with open('metadata/ghc_ground_truth.json', 'w') as fp:\n",
    "    json.dump(truths_dict, fp, indent=2)\n",
    "with open('metadata/ghc_char_sentence_dict_justseparate.json', 'w') as fp:\n",
    "    json.dump(char_sentence_dict, fp, indent=2)"
   ]
  },
  {
   "cell_type": "code",
   "execution_count": null,
   "metadata": {
    "collapsed": true
   },
   "outputs": [],
   "source": []
  },
  {
   "cell_type": "code",
   "execution_count": null,
   "metadata": {
    "collapsed": true
   },
   "outputs": [],
   "source": []
  }
 ],
 "metadata": {
  "kernelspec": {
   "display_name": "Python 3",
   "language": "python",
   "name": "python3"
  },
  "language_info": {
   "codemirror_mode": {
    "name": "ipython",
    "version": 3
   },
   "file_extension": ".py",
   "mimetype": "text/x-python",
   "name": "python",
   "nbconvert_exporter": "python",
   "pygments_lexer": "ipython3",
   "version": "3.6.0"
  }
 },
 "nbformat": 4,
 "nbformat_minor": 2
}
