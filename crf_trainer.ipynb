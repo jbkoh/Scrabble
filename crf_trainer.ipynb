{
 "cells": [
  {
   "cell_type": "code",
   "execution_count": 2,
   "metadata": {
    "collapsed": false
   },
   "outputs": [],
   "source": [
    "from functools import reduce                                                    \n",
    "import pycrfsuite                                                               \n",
    "import json                                                                     \n",
    "import pandas as pd                                                             \n",
    "import numpy as np                                                              \n",
    "#import brick_parser                                                            \n",
    "#reload(brick_parser)                                                           \n",
    "#from brick_parser import tagList, tagsetList, equipTagsetList, pointTagsetList, locationTagsetList,equalDict, pointTagList, equipTagList, locationTagList, equipPointDict\n",
    "import random"
   ]
  },
  {
   "cell_type": "code",
   "execution_count": 4,
   "metadata": {
    "collapsed": false
   },
   "outputs": [],
   "source": [
    "buildingName = 'ebu3b'\n",
    "with open('metadata/%s_label_dict.json'%buildingName, 'r') as fp:\n",
    "    labelListDict = json.load(fp)\n",
    "with open(\"metadata/%s_sentence_dict.json\"%buildingName, \"r\") as fp:\n",
    "    sentenceDict = json.load(fp)"
   ]
  },
  {
   "cell_type": "code",
   "execution_count": null,
   "metadata": {
    "collapsed": true
   },
   "outputs": [],
   "source": [
    "adder = lambda x,y:x+y\n",
    "totalWordSet = set(reduce(adder, sentenceDict.values(), []))"
   ]
  },
  {
   "cell_type": "code",
   "execution_count": null,
   "metadata": {
    "collapsed": true
   },
   "outputs": [],
   "source": [
    "#def calc_features(sentence,labels):\n",
    "def calc_features(sentence):\n",
    "    sentenceFeatures = list()\n",
    "    for i, word in enumerate(sentence):\n",
    "        features = [\n",
    "            'word.lower=' + word.lower(),\n",
    "            'word.isdigit=%s' % word.isdigit()\n",
    "        ]\n",
    "        if i>0:\n",
    "            features.extend([\n",
    "                    '-1:word.lower=' + sentence[i-1].lower()\n",
    "                ])\n",
    "        else:\n",
    "            features.append('BOS')\n",
    "            \n",
    "        if i<len(sentence)-1:\n",
    "            features.extend([\n",
    "                    '+1:word.lower=' + sentence[i+1].lower(),\n",
    "                ])\n",
    "        else:\n",
    "            features.append('EOS')\n",
    "        sentenceFeatures.append(features)\n",
    "    return sentenceFeatures"
   ]
  },
  {
   "cell_type": "code",
   "execution_count": null,
   "metadata": {
    "collapsed": false
   },
   "outputs": [],
   "source": [
    "%%time\n",
    "trainer = pycrfsuite.Trainer(verbose=False)\n",
    "#for srcid, setence in sentenceDict.items():\n",
    "\n",
    "randomIdxList = random.sample(range(0,60),60)\n",
    "for i, (srcid, labels) in enumerate(labelListDict.items()):\n",
    "    if i not in randomIdxList:\n",
    "        continue\n",
    "    sentence = sentenceDict[srcid]\n",
    "    #trainer.append(pycrfsuite.ItemSequence(calc_features(sentence, labels)), labels)\n",
    "    trainer.append(pycrfsuite.ItemSequence(calc_features(sentence)), labels)"
   ]
  },
  {
   "cell_type": "code",
   "execution_count": null,
   "metadata": {
    "collapsed": false
   },
   "outputs": [],
   "source": [
    "%%time\n",
    "trainer.train('random.crfsuite')"
   ]
  },
  {
   "cell_type": "code",
   "execution_count": null,
   "metadata": {
    "collapsed": false
   },
   "outputs": [],
   "source": [
    "tagger = pycrfsuite.Tagger()\n",
    "tagger.open('random.crfsuite')"
   ]
  },
  {
   "cell_type": "code",
   "execution_count": null,
   "metadata": {
    "collapsed": false
   },
   "outputs": [],
   "source": [
    "%%time\n",
    "predictedDict = dict()\n",
    "for srcid, sentence in sentenceDict.items():\n",
    "    predicted = tagger.tag(calc_features(sentence))\n",
    "    predictedDict[srcid] = predicted"
   ]
  },
  {
   "cell_type": "code",
   "execution_count": null,
   "metadata": {
    "collapsed": false,
    "scrolled": true
   },
   "outputs": [],
   "source": [
    "precisionOfTrainingDataset = 0.0                                                \n",
    "totalWordCount = 0.0                                                            \n",
    "                                                                                \n",
    "randIdxList = random.sample(range(0,4000), 20)                                  \n",
    "for srcid in labelListDict.keys():                                              \n",
    "#for i, srcid in enumerate(sentenceDict.keys()):                                \n",
    "    #if not i in randIdxList:                                                   \n",
    "    #    continue                                                               \n",
    "    print(\"===================== %s ========================== \"%srcid)         \n",
    "    sentence = sentenceDict[srcid]                                              \n",
    "    predicted = predictedDict[srcid]                                            \n",
    "    if not srcid in labelListDict.keys():                                       \n",
    "        for word, predTag in zip(sentence, predicted):                          \n",
    "            print('{:20s} {:20s}'.format(word,predTag))                         \n",
    "    else:                                                                       \n",
    "        printing_pairs = list()                                                 \n",
    "        for word, predTag, origLabel in zip(sentence, predicted, labelListDict[srcid]):\n",
    "            printing_pair = [word,predTag,origLabel]                            \n",
    "            if origLabel!='none':                                               \n",
    "                if predTag==origLabel:                                          \n",
    "                    precisionOfTrainingDataset += 1                             \n",
    "                    printing_pair = ['O'] + printing_pair                       \n",
    "                else:                                                           \n",
    "                    printing_pair = ['X'] + printing_pair                       \n",
    "                    #print(\"WRONG BEGIN\")                                       \n",
    "                    #print('{:20s} {:20s} {:20s}'.format(word,predTag,origLabel))\n",
    "                    #print(\"WRONG END\")                                         \n",
    "                totalWordCount += 1                                             \n",
    "            else:                                                               \n",
    "                printing_pair = ['O'] + printing_pair                           \n",
    "            printing_pairs.append(printing_pair)                                \n",
    "        if 'X' in [pair[0] for pair in printing_pairs]:                         \n",
    "            for (flag, word, predTag, origLabel) in printing_pairs:             \n",
    "                print('{:5s} {:20s} {:20s} {:20s}'\\                             \n",
    "                        .format(flag, word, predTag, origLabel))                \n",
    "                                                                                \n",
    "                                                                                \n",
    "    print(\"===============================================\")"
   ]
  },
  {
   "cell_type": "code",
   "execution_count": null,
   "metadata": {
    "collapsed": false
   },
   "outputs": [],
   "source": [
    "print precisionOfTrainingDataset/totalWordCount"
   ]
  }
 ],
 "metadata": {
  "anaconda-cloud": {},
  "kernelspec": {
   "display_name": "Python 3",
   "language": "python",
   "name": "python3"
  },
  "language_info": {
   "codemirror_mode": {
    "name": "ipython",
    "version": 3
   },
   "file_extension": ".py",
   "mimetype": "text/x-python",
   "name": "python",
   "nbconvert_exporter": "python",
   "pygments_lexer": "ipython3",
   "version": "3.6.0"
  }
 },
 "nbformat": 4,
 "nbformat_minor": 1
}
