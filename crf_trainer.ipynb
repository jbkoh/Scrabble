{
 "cells": [
  {
   "cell_type": "code",
   "execution_count": 1,
   "metadata": {
    "collapsed": false
   },
   "outputs": [
    {
     "name": "stderr",
     "output_type": "stream",
     "text": [
      "INFO:rdflib:RDFLib Version: 4.2.1\n"
     ]
    },
    {
     "name": "stdout",
     "output_type": "stream",
     "text": [
      "Init Graph\n",
      "Load Brick.ttl\n",
      "Load BrickFrame.ttl\n",
      "Init Graph\n",
      "Load Brick.ttl\n",
      "Load BrickFrame.ttl\n"
     ]
    }
   ],
   "source": [
    "import pycrfsuite\n",
    "import json\n",
    "import pandas as pd\n",
    "import numpy as np\n",
    "import brick_parser\n",
    "reload(brick_parser)\n",
    "from brick_parser import tagList, tagsetList, equipTagsetList, pointTagsetList, locationTagsetList,\\\n",
    "equalDict, pointTagList, equipTagList, locationTagList, equipPointDict\n",
    "import random"
   ]
  },
  {
   "cell_type": "code",
   "execution_count": 2,
   "metadata": {
    "collapsed": false
   },
   "outputs": [
    {
     "ename": "IOError",
     "evalue": "[Errno 2] No such file or directory: 'metadata/ebu3b_sentence_list.json'",
     "output_type": "error",
     "traceback": [
      "\u001b[0;31m\u001b[0m",
      "\u001b[0;31mIOError\u001b[0mTraceback (most recent call last)",
      "\u001b[0;32m<ipython-input-2-7848b7244c63>\u001b[0m in \u001b[0;36m<module>\u001b[0;34m()\u001b[0m\n\u001b[1;32m      2\u001b[0m \u001b[0;32mwith\u001b[0m \u001b[0mopen\u001b[0m\u001b[0;34m(\u001b[0m\u001b[0;34m'metadata/%s_label_dict.json'\u001b[0m\u001b[0;34m%\u001b[0m\u001b[0mbuildingName\u001b[0m\u001b[0;34m,\u001b[0m \u001b[0;34m'r'\u001b[0m\u001b[0;34m)\u001b[0m \u001b[0;32mas\u001b[0m \u001b[0mfp\u001b[0m\u001b[0;34m:\u001b[0m\u001b[0;34m\u001b[0m\u001b[0m\n\u001b[1;32m      3\u001b[0m     \u001b[0mlabelListDict\u001b[0m \u001b[0;34m=\u001b[0m \u001b[0mjson\u001b[0m\u001b[0;34m.\u001b[0m\u001b[0mload\u001b[0m\u001b[0;34m(\u001b[0m\u001b[0mfp\u001b[0m\u001b[0;34m)\u001b[0m\u001b[0;34m\u001b[0m\u001b[0m\n\u001b[0;32m----> 4\u001b[0;31m \u001b[0;32mwith\u001b[0m \u001b[0mopen\u001b[0m\u001b[0;34m(\u001b[0m\u001b[0;34m\"metadata/%s_sentence_list.json\"\u001b[0m\u001b[0;34m%\u001b[0m\u001b[0mbuildingName\u001b[0m\u001b[0;34m,\u001b[0m \u001b[0;34m\"r\"\u001b[0m\u001b[0;34m)\u001b[0m \u001b[0;32mas\u001b[0m \u001b[0mfp\u001b[0m\u001b[0;34m:\u001b[0m\u001b[0;34m\u001b[0m\u001b[0m\n\u001b[0m\u001b[1;32m      5\u001b[0m     \u001b[0msentenceDict\u001b[0m \u001b[0;34m=\u001b[0m \u001b[0mjson\u001b[0m\u001b[0;34m.\u001b[0m\u001b[0mload\u001b[0m\u001b[0;34m(\u001b[0m\u001b[0mfp\u001b[0m\u001b[0;34m)\u001b[0m\u001b[0;34m\u001b[0m\u001b[0m\n",
      "\u001b[0;31mIOError\u001b[0m: [Errno 2] No such file or directory: 'metadata/ebu3b_sentence_list.json'"
     ]
    }
   ],
   "source": [
    "buildingName = 'ebu3b'\n",
    "with open('metadata/%s_label_dict.json'%buildingName, 'r') as fp:\n",
    "    labelListDict = json.load(fp)\n",
    "with open(\"metadata/%s_sentence_list.json\"%buildingName, \"r\") as fp:\n",
    "    sentenceDict = json.load(fp)"
   ]
  },
  {
   "cell_type": "code",
   "execution_count": null,
   "metadata": {
    "collapsed": true
   },
   "outputs": [],
   "source": [
    "adder = lambda x,y:x+y\n",
    "totalWordSet = set(reduce(adder, sentenceDict.values(), []))"
   ]
  },
  {
   "cell_type": "code",
   "execution_count": null,
   "metadata": {
    "collapsed": true
   },
   "outputs": [],
   "source": [
    "#def calc_features(sentence,labels):\n",
    "def calc_features(sentence):\n",
    "    sentenceFeatures = list()\n",
    "    for i, word in enumerate(sentence):\n",
    "        features = [\n",
    "            'word.lower=' + word.lower(),\n",
    "            'word.isdigit=%s' % word.isdigit()\n",
    "        ]\n",
    "        if i>0:\n",
    "            features.extend([\n",
    "                    '-1:word.lower=' + sentence[i-1].lower()\n",
    "                ])\n",
    "        else:\n",
    "            features.append('BOS')\n",
    "            \n",
    "        if i<len(sentence)-1:\n",
    "            features.extend([\n",
    "                    '+1:word.lower=' + sentence[i+1].lower(),\n",
    "                ])\n",
    "        else:\n",
    "            features.append('EOS')\n",
    "        sentenceFeatures.append(features)\n",
    "    return sentenceFeatures"
   ]
  },
  {
   "cell_type": "code",
   "execution_count": null,
   "metadata": {
    "collapsed": false
   },
   "outputs": [],
   "source": [
    "%%time\n",
    "trainer = pycrfsuite.Trainer(verbose=False)\n",
    "#for srcid, setence in sentenceDict.items():\n",
    "\n",
    "randomIdxList = random.sample(range(0,60),60)\n",
    "for i, (srcid, labels) in enumerate(labelListDict.items()):\n",
    "    if i not in randomIdxList:\n",
    "        continue\n",
    "    sentence = sentenceDict[srcid]\n",
    "    #trainer.append(pycrfsuite.ItemSequence(calc_features(sentence, labels)), labels)\n",
    "    trainer.append(pycrfsuite.ItemSequence(calc_features(sentence)), labels)"
   ]
  },
  {
   "cell_type": "code",
   "execution_count": null,
   "metadata": {
    "collapsed": false
   },
   "outputs": [],
   "source": [
    "%%time\n",
    "trainer.train('random.crfsuite')"
   ]
  },
  {
   "cell_type": "code",
   "execution_count": null,
   "metadata": {
    "collapsed": false
   },
   "outputs": [],
   "source": [
    "tagger = pycrfsuite.Tagger()\n",
    "tagger.open('random.crfsuite')"
   ]
  },
  {
   "cell_type": "code",
   "execution_count": null,
   "metadata": {
    "collapsed": false
   },
   "outputs": [],
   "source": [
    "%%time\n",
    "predictedDict = dict()\n",
    "for srcid, sentence in sentenceDict.items():\n",
    "    predicted = tagger.tag(calc_features(sentence))\n",
    "    predictedDict[srcid] = predicted"
   ]
  },
  {
   "cell_type": "code",
   "execution_count": null,
   "metadata": {
    "collapsed": false,
    "scrolled": true
   },
   "outputs": [],
   "source": [
    "#srcid = '505_14_3001723'\n",
    "precisionOfTrainingDataset = 0.0\n",
    "totalWordCount = 0.0\n",
    "\n",
    "randIdxList = random.sample(range(0,4000), 20)\n",
    "#for srcid in labelListDict.keys():\n",
    "for i, srcid in enumerate(sentenceDict.keys()):\n",
    "    if not i in randIdxList:\n",
    "        continue\n",
    "    print \"=============================================== %s\"%srcid\n",
    "    sentence = sentenceDict[srcid]\n",
    "    predicted = predictedDict[srcid]\n",
    "    if not srcid in labelListDict.keys():\n",
    "        for word, predTag in zip(sentence, predicted):\n",
    "            print('{:20s} {:20s}'.format(word,predTag))\n",
    "    '''else:\n",
    "        continue\n",
    "        for word, predTag, origLabel in zip(sentence, predictedDict, labelListDict[srcid]):\n",
    "            #print(word + \":\\t\" + predTag + \":\\t\" + origLabel)\n",
    "            #print('{:20s} {:20s} {:20s}'.format(word,predTag,origLabel))\n",
    "            if origLabel!='none':\n",
    "                if predTag==origLabel:\n",
    "                    precisionOfTrainingDataset += 1\n",
    "                else:\n",
    "                    print \"WRONG BEGIN\"\n",
    "                    print('{:20s} {:20s} {:20s}'.format(word,predTag,origLabel))\n",
    "                    print \"WRONG END\"\n",
    "                totalWordCount += 1\n",
    "    print \"===============================================\"\n",
    "    '''"
   ]
  },
  {
   "cell_type": "code",
   "execution_count": null,
   "metadata": {
    "collapsed": false
   },
   "outputs": [],
   "source": [
    "print precisionOfTrainingDataset/totalWordCount"
   ]
  }
 ],
 "metadata": {
  "anaconda-cloud": {},
  "kernelspec": {
   "display_name": "Python [conda root]",
   "language": "python",
   "name": "conda-root-py"
  },
  "language_info": {
   "codemirror_mode": {
    "name": "ipython",
    "version": 2
   },
   "file_extension": ".py",
   "mimetype": "text/x-python",
   "name": "python",
   "nbconvert_exporter": "python",
   "pygments_lexer": "ipython2",
   "version": "2.7.12"
  }
 },
 "nbformat": 4,
 "nbformat_minor": 1
}
