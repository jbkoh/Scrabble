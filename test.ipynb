{
 "cells": [
  {
   "cell_type": "code",
   "execution_count": 5,
   "metadata": {
    "collapsed": false
   },
   "outputs": [
    {
     "ename": "SyntaxError",
     "evalue": "Missing parentheses in call to 'print' (feature_extractor.py, line 57)",
     "output_type": "error",
     "traceback": [
      "\u001b[0;36m  File \u001b[0;32m\"/home/jbkoh/repo/scrabble_crf/feature_extractor.py\"\u001b[0;36m, line \u001b[0;32m57\u001b[0m\n\u001b[0;31m    print fftResult\u001b[0m\n\u001b[0m                  ^\u001b[0m\n\u001b[0;31mSyntaxError\u001b[0m\u001b[0;31m:\u001b[0m Missing parentheses in call to 'print'\n"
     ]
    }
   ],
   "source": [
    "import json\n",
    "import pandas as pd\n",
    "from feature_extractor import *\n",
    "data = pd.Series.from_csv('data/505_0_3000190.csv')"
   ]
  },
  {
   "cell_type": "code",
   "execution_count": 4,
   "metadata": {
    "collapsed": false
   },
   "outputs": [
    {
     "data": {
      "text/plain": [
       "time                         value\n",
       "2017-01-20 08:00:00+00:00    73.66\n",
       "2017-01-20 08:03:00+00:00    73.66\n",
       "2017-01-20 08:06:00+00:00    73.66\n",
       "2017-01-20 08:09:00+00:00    73.66\n",
       "2017-01-20 08:12:00+00:00    73.66\n",
       "2017-01-20 08:15:00+00:00    73.66\n",
       "2017-01-20 08:18:00+00:00    73.66\n",
       "2017-01-20 08:21:00+00:00    73.66\n",
       "2017-01-20 08:24:00+00:00    73.66\n",
       "2017-01-20 08:27:00+00:00    73.66\n",
       "2017-01-20 08:30:00+00:00    73.66\n",
       "2017-01-20 08:33:00+00:00    73.66\n",
       "2017-01-20 08:36:00+00:00    73.66\n",
       "2017-01-20 08:39:00+00:00    73.66\n",
       "2017-01-20 08:42:00+00:00    73.67\n",
       "2017-01-20 08:45:00+00:00    73.67\n",
       "2017-01-20 08:48:00+00:00    73.66\n",
       "2017-01-20 08:51:00+00:00    73.66\n",
       "2017-01-20 08:54:00+00:00    73.66\n",
       "2017-01-20 08:57:00+00:00    73.67\n",
       "2017-01-20 09:00:00+00:00    73.67\n",
       "2017-01-20 09:03:00+00:00    73.66\n",
       "2017-01-20 09:06:00+00:00    73.67\n",
       "2017-01-20 09:09:00+00:00    73.66\n",
       "2017-01-20 09:12:00+00:00    73.66\n",
       "2017-01-20 09:15:00+00:00    73.67\n",
       "2017-01-20 09:18:00+00:00    73.66\n",
       "2017-01-20 09:21:00+00:00    73.66\n",
       "2017-01-20 09:24:00+00:00    73.66\n",
       "                             ...  \n",
       "2017-02-08 06:33:00+00:00    73.87\n",
       "2017-02-08 06:36:00+00:00    73.87\n",
       "2017-02-08 06:39:00+00:00    73.87\n",
       "2017-02-08 06:42:00+00:00    73.87\n",
       "2017-02-08 06:45:00+00:00    73.87\n",
       "2017-02-08 06:48:00+00:00    73.87\n",
       "2017-02-08 06:51:00+00:00    73.87\n",
       "2017-02-08 06:54:00+00:00    73.87\n",
       "2017-02-08 06:57:00+00:00    73.87\n",
       "2017-02-08 07:00:00+00:00    73.87\n",
       "2017-02-08 07:03:00+00:00    73.87\n",
       "2017-02-08 07:06:00+00:00    73.87\n",
       "2017-02-08 07:09:00+00:00    73.87\n",
       "2017-02-08 07:12:00+00:00    73.87\n",
       "2017-02-08 07:15:00+00:00    73.87\n",
       "2017-02-08 07:18:00+00:00    73.87\n",
       "2017-02-08 07:21:00+00:00    73.87\n",
       "2017-02-08 07:24:00+00:00    73.87\n",
       "2017-02-08 07:27:00+00:00    73.87\n",
       "2017-02-08 07:30:00+00:00    73.87\n",
       "2017-02-08 07:33:00+00:00    73.87\n",
       "2017-02-08 07:36:00+00:00    73.87\n",
       "2017-02-08 07:39:00+00:00    73.87\n",
       "2017-02-08 07:42:00+00:00    73.87\n",
       "2017-02-08 07:45:00+00:00    73.87\n",
       "2017-02-08 07:48:00+00:00    73.87\n",
       "2017-02-08 07:51:00+00:00    73.87\n",
       "2017-02-08 07:54:00+00:00    73.87\n",
       "2017-02-08 07:57:00+00:00    73.87\n",
       "2017-02-08 08:00:00+00:00    73.66\n",
       "dtype: object"
      ]
     },
     "execution_count": 4,
     "metadata": {},
     "output_type": "execute_result"
    }
   ],
   "source": [
    "data\n"
   ]
  },
  {
   "cell_type": "code",
   "execution_count": null,
   "metadata": {
    "collapsed": true
   },
   "outputs": [],
   "source": []
  },
  {
   "cell_type": "code",
   "execution_count": 38,
   "metadata": {
    "collapsed": false
   },
   "outputs": [
    {
     "data": {
      "text/plain": [
       "{'2017-02-12T21:59:31+00:00': 78.92}"
      ]
     },
     "execution_count": 38,
     "metadata": {},
     "output_type": "execute_result"
    }
   ],
   "source": [
    "#essential libraries                                                            \n",
    "import numpy as np                                                              \n",
    "import pandas as pd      \n",
    "import arrow\n",
    "import json\n",
    "                                                                                \n",
    "from bd3client.CentralService import CentralService                             \n",
    "from bd3client.Sensor import Sensor                                             \n",
    "from bd3client.Timeseries import Timeseries                                     \n",
    "                                                                                \n",
    "from building_depot import DataService, BDError                                 \n",
    "from datetime import datetime\n",
    "                                                                                \n",
    "import logging                                                                     \n",
    "                                                                                \n",
    "# Basic configuration                                                           \n",
    "begin_time = arrow.get(datetime(2017,2,12,13), 'US/Pacific').datetime\n",
    "end_time = arrow.get(datetime(2017,2,12,14), 'US/Pacific').datetime                                      \n",
    "building_name_list = ['AP_M', 'EBU3B', 'SME', 'Music']                          \n",
    "basedir = \"data\"                                                                \n",
    "header = ['value']                                                                 \n",
    "index_label=\"time\" \n",
    "\n",
    "# BD2-1 Initialization                                                          \n",
    "with open(\"config/bd2-1config.json\", \"r\") as fp:                                \n",
    "    hostname = json.load(fp)['hostname']                                        \n",
    "with open(\"config/bd2-1secrets.json\", \"r\") as fp:                               \n",
    "    secrets = json.load(fp)                                           \n",
    "    username = secrets['username']                                              \n",
    "    apikey = secrets['apikey']                                                  \n",
    "bd2_1ds = DataService(hostname, apikey, username) \n",
    "\n",
    "srcid = '506_0_3000485'\n",
    "\n",
    "\n",
    "# Get UUID                                                                  \n",
    "uuid = bd2_1ds.list_sensors({'source_identifier':srcid})['sensors'][0]['uuid']\n",
    "\n",
    "# Get data                                                                  \n",
    "\n",
    "raw_data = bd2_1ds.get_timeseries_datapoints(uuid, 'PresentValue', begin_time, end_time)\n",
    "\n",
    "raw_data['timeseries'][-1]"
   ]
  },
  {
   "cell_type": "code",
   "execution_count": 102,
   "metadata": {
    "collapsed": false
   },
   "outputs": [
    {
     "data": {
      "text/plain": [
       "'\\nif __name__ == \"__main__\":\\n    cnt = 0\\n    # Store all data\\n    for building_name in building_name_list:\\n        cnt += 1\\n        if cnt%500==0:\\n            logger.info(\"Data download success ({0}, {1})\"                    .format(building_name, cnt))\\n        with open(\"metadata/%s_sentence_dict.json\"%building_name.lower(), \"r\")                 as fp:\\n            sentence_dict = json.load(fp)\\n        srcid_list = sentence_dict.keys()\\n        for srcid in srcid_list:\\n            ts_series = get_data(building_name, begin_time, end_time, srcid)\\n            if isinstance(ts_series, pd.Series):\\n                ts_series = resample_data(ts_series, begin_time, end_time,                         \"nextval\")\\n                filename = basedir + \\'/\\' + srcid + \\'.csv\\'\\n                ts_series.to_csv(filename,                         header=header,                         index_label=index_label)\\n            else:\\n                logger.error(\"Data not found ({0})\".format(srcid))\\n'"
      ]
     },
     "execution_count": 102,
     "metadata": {},
     "output_type": "execute_result"
    }
   ],
   "source": [
    "#essential libraries\n",
    "import json\n",
    "import logging\n",
    "\n",
    "import numpy as np\n",
    "import pandas as pd\n",
    "import arrow\n",
    "\n",
    "from bd3client.CentralService import CentralService\n",
    "from bd3client.Sensor import Sensor\n",
    "from bd3client.Timeseries import Timeseries\n",
    "from building_depot import DataService, BDError\n",
    "\n",
    "PST = 'US/Pacific'\n",
    "\n",
    "# Basic configuration\n",
    "begin_time = arrow.get(datetime(2017,1,20), PST).datetime\n",
    "end_time = arrow.get(datetime(2017,2,8), PST).datetime\n",
    "#building_name_list = ['AP_M', 'EBU3B', 'SME', 'Music']\n",
    "building_name_list = ['EBU3B']\n",
    "basedir = \"data\"\n",
    "header = ['value']\n",
    "index_label=\"time\"\n",
    "\n",
    "# Logger configuration\n",
    "logger = logging.getLogger(\"data_collection_log\")\n",
    "logger.setLevel(logging.INFO)\n",
    "log_handler = logging.FileHandler('log/data_collection.log')\n",
    "formatter = logging.Formatter('%(asctime)s %(levelname)s %(message)s')\n",
    "logger.addHandler(log_handler)\n",
    "\n",
    "# BD2-1 Initialization\n",
    "with open(\"config/bd2-1config.json\", \"r\") as fp:\n",
    "    hostname = json.load(fp)['hostname']\n",
    "with open(\"config/bd2-1secrets.json\", \"r\") as fp:\n",
    "    secrets = json.load(fp)\n",
    "    username = secrets['username']\n",
    "    apikey = secrets['apikey']\n",
    "bd2_1ds = DataService(hostname, apikey, username)\n",
    "\n",
    "# BD3 Initialization\n",
    "with open(\"config/bd3config.json\", \"r\") as fp:\n",
    "    hostname = json.load(fp)['hostname']\n",
    "with open(\"config/bd3secrets.json\", \"r\") as fp:\n",
    "    secrets = json.load(fp)\n",
    "    cid = secrets['cid']\n",
    "    csecret = secrets['csecret']\n",
    "bd3cs = CentralService(hostname, cid, csecret)\n",
    "bd3sensor_api = Sensor(bd3cs)\n",
    "bd3ts_api = Timeseries(bd3cs)\n",
    "\n",
    "\n",
    "#Load basic metadata\n",
    "with open(\"metadata/bacnet_devices.json\", \"r\") as fp:\n",
    "    bacnet_devices = json.load(fp)\n",
    "with open(\"metadata/building_info.json\", \"r\") as fp:\n",
    "    building_dict = json.load(fp)\n",
    "\n",
    "def resample_data(raw_data, begin_time, end_time, sample_method):\n",
    "    raw_data = raw_data[begin_time:end_time]\n",
    "    if not begin_time in raw_data.index:\n",
    "        raw_data[arrow.get(begin_time).to('UTC').datetime] = raw_data.head(1)[0]\n",
    "    if not end_time in raw_data.index:\n",
    "        raw_data[arrow.get(end_time).to('UTC').datetime] = raw_data.tail(1)[0]\n",
    "    raw_data = raw_data.sort_index()\n",
    "    if sample_method== 'nextval':\n",
    "        proc_data = raw_data.resample('3Min', how='pad')\n",
    "    else:\n",
    "        logger.error(\"sample method not defined well: {0}\".format(sample_method))\n",
    "        assert(False)\n",
    "    return proc_data\n",
    "\n",
    "\n",
    "def get_data_bd2(begin_time, end_time, srcid, bd2ds):\n",
    "    # Get UUID\n",
    "    \"\"\"\n",
    "    try:\n",
    "        uuid = bd2ds.list_sensors({'source_identifier':srcid})\\\n",
    "                ['sensors'][0]['uuid']\n",
    "    except:\n",
    "        logger.error(\"UUID not found ({0})\".format(srcid))\n",
    "        return None\n",
    "    \"\"\"\n",
    "    uuid = bd2ds.list_sensors({'source_identifier':srcid})\\\n",
    "            ['sensors'][0]['uuid']\n",
    "\n",
    "    # Get data\n",
    "    \"\"\"\n",
    "    try:\n",
    "        raw_data = bd2ds.get_timeseries_datapoints(uuid, 'PresentValue', \\\n",
    "                begin_time, end_time)\n",
    "    except:\n",
    "        logger.error(\"Data not found ({0})\".format(srcid))\n",
    "        return None\n",
    "    \"\"\"\n",
    "    raw_data = bd2ds.get_timeseries_datapoints(uuid, 'PresentValue', \\\n",
    "            begin_time, end_time)\n",
    "    time_list = list()\n",
    "    value_list = list()\n",
    "    for row in raw_data['timeseries']:\n",
    "        for t, v in row.items():\n",
    "            time_str = t\n",
    "            value = v\n",
    "            break\n",
    "        from dateutil import tz\n",
    "        time_list.append(arrow.get(time_str).to('UTC').datetime)\n",
    "        value_list.append(value)\n",
    "    return pd.Series(index=time_list, data=value_list)\n",
    "    \n",
    "\n",
    "def get_data_bd3(begin_time, end_time, srcid):\n",
    "    # Get UUID\n",
    "    try:\n",
    "        (nae, data_type, instance_num)  = srcid.split(\"_\")\n",
    "        tag_val_dict = {\n",
    "                \"NAENum\": nae,\n",
    "                \"BACNet_DataType\": data_type,\n",
    "                \"BANet_InstanceNumber\": instance_num\n",
    "                }\n",
    "        uuid = bd3sensor_api.search(tag_val_dict)['result'][0]['name']\n",
    "    except:\n",
    "        logger.error(\"UUID NOT FOUND ({0}, {1})\".format(building_name, srcid))\n",
    "        return None\n",
    "    # Get data\n",
    "    try:\n",
    "        ts = bd3ts_api.getTimeseriesDataPoints(uuid, begin_time, end_time)\n",
    "    except:\n",
    "        logger.error(\"Data not found ({0})\".format(srcid))\n",
    "    time_list = [arrow.get(row[0]).to('UTC').datetime for row in ts['data']['series'][0]\\\n",
    "            ['values']]\n",
    "    value_list = [row[2] for row in ts['data']['series'][0]['values']]\n",
    "    return pd.Series(index=time_list, data=value_list)\n",
    "    #.to_csv(filename, header=header, index_label=index_label)\n",
    "\n",
    "def get_data(building_name, begin_time, end_time, srcid):\n",
    "    if building_name.lower() == \"ebu3b\":\n",
    "        return get_data_bd2(begin_time, end_time, srcid, bd2_1ds)\n",
    "    else:\n",
    "        return get_data_bd3(begin_time, end_time, srcid)\n",
    "\n",
    "\"\"\"\n",
    "if __name__ == \"__main__\":\n",
    "    cnt = 0\n",
    "    # Store all data\n",
    "    for building_name in building_name_list:\n",
    "        cnt += 1\n",
    "        if cnt%500==0:\n",
    "            logger.info(\"Data download success ({0}, {1})\"\\\n",
    "                    .format(building_name, cnt))\n",
    "        with open(\"metadata/%s_sentence_dict.json\"%building_name.lower(), \"r\") \\\n",
    "                as fp:\n",
    "            sentence_dict = json.load(fp)\n",
    "        srcid_list = sentence_dict.keys()\n",
    "        for srcid in srcid_list:\n",
    "            ts_series = get_data(building_name, begin_time, end_time, srcid)\n",
    "            if isinstance(ts_series, pd.Series):\n",
    "                ts_series = resample_data(ts_series, begin_time, end_time, \\\n",
    "                        \"nextval\")\n",
    "                filename = basedir + '/' + srcid + '.csv'\n",
    "                ts_series.to_csv(filename, \\\n",
    "                        header=header, \\\n",
    "                        index_label=index_label)\n",
    "            else:\n",
    "                logger.error(\"Data not found ({0})\".format(srcid))\n",
    "\"\"\""
   ]
  },
  {
   "cell_type": "code",
   "execution_count": 103,
   "metadata": {
    "collapsed": false
   },
   "outputs": [],
   "source": [
    "srcid = '506_0_3000485'\n",
    "building_name = 'ebu3b'\n",
    "ts = get_data(building_name, begin_time, end_time, srcid)"
   ]
  },
  {
   "cell_type": "code",
   "execution_count": 96,
   "metadata": {
    "collapsed": false
   },
   "outputs": [
    {
     "data": {
      "text/plain": [
       "numpy.datetime64('2017-01-20T08:02:19.000000000')"
      ]
     },
     "execution_count": 96,
     "metadata": {},
     "output_type": "execute_result"
    }
   ],
   "source": [
    "ts.index.ravel()[0]"
   ]
  },
  {
   "cell_type": "code",
   "execution_count": 97,
   "metadata": {
    "collapsed": false
   },
   "outputs": [
    {
     "data": {
      "text/plain": [
       "datetime.datetime(2017, 1, 20, 0, 0, tzinfo=tzfile('/usr/share/zoneinfo/US/Pacific'))"
      ]
     },
     "execution_count": 97,
     "metadata": {},
     "output_type": "execute_result"
    }
   ],
   "source": [
    "begin_time"
   ]
  },
  {
   "cell_type": "code",
   "execution_count": 104,
   "metadata": {
    "collapsed": false
   },
   "outputs": [
    {
     "name": "stderr",
     "output_type": "stream",
     "text": [
      "/home/jbkoh/anaconda3/lib/python3.6/site-packages/ipykernel/__main__.py:68: FutureWarning: how in .resample() is deprecated\n",
      "the new syntax is .resample(...).pad()\n"
     ]
    }
   ],
   "source": [
    "isinstance(ts, pd.Series)\n",
    "rd = resample_data(ts, begin_time, end_time, 'nextval')\n"
   ]
  },
  {
   "cell_type": "code",
   "execution_count": 105,
   "metadata": {
    "collapsed": false
   },
   "outputs": [
    {
     "data": {
      "text/plain": [
       "2017-01-20 08:00:00+00:00    76.20\n",
       "2017-01-20 08:02:00+00:00    76.20\n",
       "2017-01-20 08:04:00+00:00    76.20\n",
       "2017-01-20 08:06:00+00:00    76.20\n",
       "2017-01-20 08:08:00+00:00    76.20\n",
       "2017-01-20 08:10:00+00:00    76.20\n",
       "2017-01-20 08:12:00+00:00    76.20\n",
       "2017-01-20 08:14:00+00:00    76.20\n",
       "2017-01-20 08:16:00+00:00    76.71\n",
       "2017-01-20 08:18:00+00:00    76.71\n",
       "2017-01-20 08:20:00+00:00    76.71\n",
       "2017-01-20 08:22:00+00:00    76.71\n",
       "2017-01-20 08:24:00+00:00    76.71\n",
       "2017-01-20 08:26:00+00:00    76.71\n",
       "2017-01-20 08:28:00+00:00    76.71\n",
       "2017-01-20 08:30:00+00:00    76.71\n",
       "2017-01-20 08:32:00+00:00    76.21\n",
       "2017-01-20 08:34:00+00:00    76.21\n",
       "2017-01-20 08:36:00+00:00    76.21\n",
       "2017-01-20 08:38:00+00:00    76.21\n",
       "2017-01-20 08:40:00+00:00    76.21\n",
       "2017-01-20 08:42:00+00:00    76.21\n",
       "2017-01-20 08:44:00+00:00    76.21\n",
       "2017-01-20 08:46:00+00:00    76.21\n",
       "2017-01-20 08:48:00+00:00    75.70\n",
       "2017-01-20 08:50:00+00:00    75.70\n",
       "2017-01-20 08:52:00+00:00    75.70\n",
       "2017-01-20 08:54:00+00:00    75.70\n",
       "2017-01-20 08:56:00+00:00    75.70\n",
       "2017-01-20 08:58:00+00:00    75.70\n",
       "                             ...  \n",
       "2017-02-08 07:02:00+00:00    74.64\n",
       "2017-02-08 07:04:00+00:00    74.64\n",
       "2017-02-08 07:06:00+00:00    74.64\n",
       "2017-02-08 07:08:00+00:00    74.64\n",
       "2017-02-08 07:10:00+00:00    74.64\n",
       "2017-02-08 07:12:00+00:00    74.64\n",
       "2017-02-08 07:14:00+00:00    74.64\n",
       "2017-02-08 07:16:00+00:00    74.64\n",
       "2017-02-08 07:18:00+00:00    74.64\n",
       "2017-02-08 07:20:00+00:00    74.64\n",
       "2017-02-08 07:22:00+00:00    74.64\n",
       "2017-02-08 07:24:00+00:00    74.64\n",
       "2017-02-08 07:26:00+00:00    74.64\n",
       "2017-02-08 07:28:00+00:00    75.15\n",
       "2017-02-08 07:30:00+00:00    75.15\n",
       "2017-02-08 07:32:00+00:00    75.15\n",
       "2017-02-08 07:34:00+00:00    75.15\n",
       "2017-02-08 07:36:00+00:00    75.15\n",
       "2017-02-08 07:38:00+00:00    75.15\n",
       "2017-02-08 07:40:00+00:00    75.15\n",
       "2017-02-08 07:42:00+00:00    75.15\n",
       "2017-02-08 07:44:00+00:00    75.15\n",
       "2017-02-08 07:46:00+00:00    75.15\n",
       "2017-02-08 07:48:00+00:00    75.15\n",
       "2017-02-08 07:50:00+00:00    75.15\n",
       "2017-02-08 07:52:00+00:00    75.15\n",
       "2017-02-08 07:54:00+00:00    75.15\n",
       "2017-02-08 07:56:00+00:00    74.65\n",
       "2017-02-08 07:58:00+00:00    74.65\n",
       "2017-02-08 08:00:00+00:00    74.65\n",
       "Freq: 2T, dtype: float64"
      ]
     },
     "execution_count": 105,
     "metadata": {},
     "output_type": "execute_result"
    }
   ],
   "source": [
    "rd"
   ]
  },
  {
   "cell_type": "code",
   "execution_count": 98,
   "metadata": {
    "collapsed": false
   },
   "outputs": [
    {
     "data": {
      "text/plain": [
       "numpy.datetime64('2017-01-20T08:02:19.000000000')"
      ]
     },
     "execution_count": 98,
     "metadata": {},
     "output_type": "execute_result"
    }
   ],
   "source": [
    "ts.index.ravel()[0]"
   ]
  },
  {
   "cell_type": "code",
   "execution_count": 68,
   "metadata": {
    "collapsed": false
   },
   "outputs": [
    {
     "ename": "TypeError",
     "evalue": "descriptor 'tzname' requires a 'datetime.tzinfo' object but received a 'str'",
     "output_type": "error",
     "traceback": [
      "\u001b[0;31m---------------------------------------------------------------------------\u001b[0m",
      "\u001b[0;31mTypeError\u001b[0m                                 Traceback (most recent call last)",
      "\u001b[0;32m<ipython-input-68-c757659ba02b>\u001b[0m in \u001b[0;36m<module>\u001b[0;34m()\u001b[0m\n\u001b[1;32m      1\u001b[0m \u001b[0;32mfrom\u001b[0m \u001b[0mdatetime\u001b[0m \u001b[0;32mimport\u001b[0m \u001b[0mtzinfo\u001b[0m\u001b[0;34m\u001b[0m\u001b[0m\n\u001b[0;32m----> 2\u001b[0;31m \u001b[0mbegin_time\u001b[0m\u001b[0;34m.\u001b[0m\u001b[0mastimezone\u001b[0m\u001b[0;34m(\u001b[0m\u001b[0mtzinfo\u001b[0m\u001b[0;34m.\u001b[0m\u001b[0mtzname\u001b[0m\u001b[0;34m(\u001b[0m\u001b[0;34m'UTC'\u001b[0m\u001b[0;34m)\u001b[0m\u001b[0;34m)\u001b[0m\u001b[0;34m\u001b[0m\u001b[0m\n\u001b[0m",
      "\u001b[0;31mTypeError\u001b[0m: descriptor 'tzname' requires a 'datetime.tzinfo' object but received a 'str'"
     ]
    }
   ],
   "source": [
    "from datetime import tzinfo\n",
    "begin_time.astimezone(tzinfo.tzname('UTC'))"
   ]
  },
  {
   "cell_type": "code",
   "execution_count": 99,
   "metadata": {
    "collapsed": false
   },
   "outputs": [],
   "source": [
    "a = arrow.get(begin_time).to('UTC').datetime"
   ]
  },
  {
   "cell_type": "code",
   "execution_count": 86,
   "metadata": {
    "collapsed": false
   },
   "outputs": [],
   "source": [
    "b = ts.index[0]"
   ]
  },
  {
   "cell_type": "code",
   "execution_count": 87,
   "metadata": {
    "collapsed": false
   },
   "outputs": [
    {
     "data": {
      "text/plain": [
       "Timestamp('2017-01-20 08:02:19+0000', tz='tzoffset(None, 0)')"
      ]
     },
     "execution_count": 87,
     "metadata": {},
     "output_type": "execute_result"
    }
   ],
   "source": [
    "b"
   ]
  },
  {
   "cell_type": "code",
   "execution_count": 101,
   "metadata": {
    "collapsed": false
   },
   "outputs": [
    {
     "data": {
      "text/plain": [
       "2017-01-20 08:02:19+00:00    76.20\n",
       "2017-01-20 08:06:31+00:00    76.20\n",
       "2017-01-20 08:10:45+00:00    76.20\n",
       "2017-01-20 08:14:45+00:00    76.71\n",
       "2017-01-20 08:18:43+00:00    76.71\n",
       "2017-01-20 08:22:43+00:00    76.71\n",
       "2017-01-20 08:26:54+00:00    76.71\n",
       "2017-01-20 08:30:50+00:00    76.21\n",
       "2017-01-20 08:34:51+00:00    76.21\n",
       "2017-01-20 08:38:53+00:00    76.21\n",
       "2017-01-20 08:42:43+00:00    76.21\n",
       "2017-01-20 08:46:48+00:00    75.70\n",
       "2017-01-20 08:50:43+00:00    75.70\n",
       "2017-01-20 08:54:36+00:00    75.70\n",
       "2017-01-20 08:58:33+00:00    75.70\n",
       "2017-01-20 09:02:24+00:00    75.70\n",
       "2017-01-20 09:06:26+00:00    76.23\n",
       "2017-01-20 09:10:21+00:00    76.23\n",
       "2017-01-20 09:14:19+00:00    76.76\n",
       "2017-01-20 09:18:14+00:00    76.76\n",
       "2017-01-20 09:22:10+00:00    76.25\n",
       "2017-01-20 09:26:13+00:00    76.25\n",
       "2017-01-20 09:30:07+00:00    76.25\n",
       "2017-01-20 09:34:06+00:00    75.74\n",
       "2017-01-20 09:38:00+00:00    75.74\n",
       "2017-01-20 09:42:00+00:00    75.74\n",
       "2017-01-20 09:46:03+00:00    75.74\n",
       "2017-01-20 09:50:09+00:00    75.74\n",
       "2017-01-20 09:54:15+00:00    75.74\n",
       "2017-01-20 09:58:14+00:00    75.74\n",
       "                             ...  \n",
       "2017-02-08 05:42:15+00:00    74.12\n",
       "2017-02-08 05:47:14+00:00    74.12\n",
       "2017-02-08 05:51:47+00:00    74.12\n",
       "2017-02-08 05:56:33+00:00    74.12\n",
       "2017-02-08 06:01:01+00:00    74.12\n",
       "2017-02-08 06:05:39+00:00    74.12\n",
       "2017-02-08 06:10:43+00:00    74.12\n",
       "2017-02-08 06:15:12+00:00    74.12\n",
       "2017-02-08 06:19:46+00:00    74.12\n",
       "2017-02-08 06:24:26+00:00    74.12\n",
       "2017-02-08 06:29:07+00:00    74.64\n",
       "2017-02-08 06:33:46+00:00    74.64\n",
       "2017-02-08 06:38:39+00:00    74.64\n",
       "2017-02-08 06:43:38+00:00    74.64\n",
       "2017-02-08 06:48:24+00:00    74.64\n",
       "2017-02-08 06:53:18+00:00    74.64\n",
       "2017-02-08 06:58:03+00:00    74.64\n",
       "2017-02-08 07:02:45+00:00    74.64\n",
       "2017-02-08 07:07:36+00:00    74.64\n",
       "2017-02-08 07:12:21+00:00    74.64\n",
       "2017-02-08 07:17:33+00:00    74.64\n",
       "2017-02-08 07:22:21+00:00    74.64\n",
       "2017-02-08 07:26:58+00:00    75.15\n",
       "2017-02-08 07:31:45+00:00    75.15\n",
       "2017-02-08 07:36:25+00:00    75.15\n",
       "2017-02-08 07:41:22+00:00    75.15\n",
       "2017-02-08 07:46:01+00:00    75.15\n",
       "2017-02-08 07:50:44+00:00    75.15\n",
       "2017-02-08 07:55:21+00:00    74.65\n",
       "2017-01-20 08:00:00+00:00     1.00\n",
       "dtype: float64"
      ]
     },
     "execution_count": 101,
     "metadata": {},
     "output_type": "execute_result"
    }
   ],
   "source": [
    "ts"
   ]
  },
  {
   "cell_type": "code",
   "execution_count": 45,
   "metadata": {
    "collapsed": false
   },
   "outputs": [
    {
     "name": "stderr",
     "output_type": "stream",
     "text": [
      "/home/jbkoh/anaconda3/lib/python3.6/site-packages/ipykernel/__main__.py:1: FutureWarning: how in .resample() is deprecated\n",
      "the new syntax is .resample(...).pad()\n",
      "  if __name__ == '__main__':\n"
     ]
    },
    {
     "data": {
      "text/plain": [
       "2017-01-20 08:00:00+00:00      NaN\n",
       "2017-01-20 08:03:00+00:00    76.20\n",
       "2017-01-20 08:06:00+00:00    76.20\n",
       "2017-01-20 08:09:00+00:00    76.20\n",
       "2017-01-20 08:12:00+00:00    76.20\n",
       "2017-01-20 08:15:00+00:00    76.71\n",
       "2017-01-20 08:18:00+00:00    76.71\n",
       "2017-01-20 08:21:00+00:00    76.71\n",
       "2017-01-20 08:24:00+00:00    76.71\n",
       "2017-01-20 08:27:00+00:00    76.71\n",
       "2017-01-20 08:30:00+00:00    76.71\n",
       "2017-01-20 08:33:00+00:00    76.21\n",
       "2017-01-20 08:36:00+00:00    76.21\n",
       "2017-01-20 08:39:00+00:00    76.21\n",
       "2017-01-20 08:42:00+00:00    76.21\n",
       "2017-01-20 08:45:00+00:00    76.21\n",
       "2017-01-20 08:48:00+00:00    75.70\n",
       "2017-01-20 08:51:00+00:00    75.70\n",
       "2017-01-20 08:54:00+00:00    75.70\n",
       "2017-01-20 08:57:00+00:00    75.70\n",
       "2017-01-20 09:00:00+00:00    75.70\n",
       "2017-01-20 09:03:00+00:00    75.70\n",
       "2017-01-20 09:06:00+00:00    75.70\n",
       "2017-01-20 09:09:00+00:00    76.23\n",
       "2017-01-20 09:12:00+00:00    76.23\n",
       "2017-01-20 09:15:00+00:00    76.76\n",
       "2017-01-20 09:18:00+00:00    76.76\n",
       "2017-01-20 09:21:00+00:00    76.76\n",
       "2017-01-20 09:24:00+00:00    76.25\n",
       "2017-01-20 09:27:00+00:00    76.25\n",
       "                             ...  \n",
       "2017-02-08 06:27:00+00:00    74.12\n",
       "2017-02-08 06:30:00+00:00    74.64\n",
       "2017-02-08 06:33:00+00:00    74.64\n",
       "2017-02-08 06:36:00+00:00    74.64\n",
       "2017-02-08 06:39:00+00:00    74.64\n",
       "2017-02-08 06:42:00+00:00    74.64\n",
       "2017-02-08 06:45:00+00:00    74.64\n",
       "2017-02-08 06:48:00+00:00    74.64\n",
       "2017-02-08 06:51:00+00:00    74.64\n",
       "2017-02-08 06:54:00+00:00    74.64\n",
       "2017-02-08 06:57:00+00:00    74.64\n",
       "2017-02-08 07:00:00+00:00    74.64\n",
       "2017-02-08 07:03:00+00:00    74.64\n",
       "2017-02-08 07:06:00+00:00    74.64\n",
       "2017-02-08 07:09:00+00:00    74.64\n",
       "2017-02-08 07:12:00+00:00    74.64\n",
       "2017-02-08 07:15:00+00:00    74.64\n",
       "2017-02-08 07:18:00+00:00    74.64\n",
       "2017-02-08 07:21:00+00:00    74.64\n",
       "2017-02-08 07:24:00+00:00    74.64\n",
       "2017-02-08 07:27:00+00:00    75.15\n",
       "2017-02-08 07:30:00+00:00    75.15\n",
       "2017-02-08 07:33:00+00:00    75.15\n",
       "2017-02-08 07:36:00+00:00    75.15\n",
       "2017-02-08 07:39:00+00:00    75.15\n",
       "2017-02-08 07:42:00+00:00    75.15\n",
       "2017-02-08 07:45:00+00:00    75.15\n",
       "2017-02-08 07:48:00+00:00    75.15\n",
       "2017-02-08 07:51:00+00:00    75.15\n",
       "2017-02-08 07:54:00+00:00    75.15\n",
       "Freq: 3T, dtype: float64"
      ]
     },
     "execution_count": 45,
     "metadata": {},
     "output_type": "execute_result"
    }
   ],
   "source": [
    "ts.resample('3T', how='pad')"
   ]
  }
 ],
 "metadata": {
  "kernelspec": {
   "display_name": "Python 3",
   "language": "python",
   "name": "python3"
  },
  "language_info": {
   "codemirror_mode": {
    "name": "ipython",
    "version": 3
   },
   "file_extension": ".py",
   "mimetype": "text/x-python",
   "name": "python",
   "nbconvert_exporter": "python",
   "pygments_lexer": "ipython3",
   "version": "3.6.0"
  }
 },
 "nbformat": 4,
 "nbformat_minor": 2
}
