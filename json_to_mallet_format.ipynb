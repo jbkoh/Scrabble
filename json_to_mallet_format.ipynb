{
 "cells": [
  {
   "cell_type": "code",
   "execution_count": 1,
   "metadata": {
    "collapsed": false
   },
   "outputs": [],
   "source": [
    "import json\n",
    "from collections import OrderedDict\n",
    "import os\n",
    "\n",
    "building_name = 'ebu3b'\n",
    "with open(\"metadata/%s_label_dict.json\"%building_name, 'r') as fp:\n",
    "    label_dict = json.load(fp)\n",
    "with open(\"metadata/%s_sentence_dict.json\"%building_name, \"r\") as fp:\n",
    "    sentence_dict = OrderedDict(json.load(fp))"
   ]
  },
  {
   "cell_type": "code",
   "execution_count": 2,
   "metadata": {
    "collapsed": false
   },
   "outputs": [],
   "source": [
    "with open(\"metadata/%s_mallet_learning_sample.txt\"%building_name, \"w\") as fp:\n",
    "    for srcid, labels in label_dict.items():\n",
    "        sentence = sentence_dict[srcid]\n",
    "        sentence = [\"newline\" if word==\"\\n\" else word for word in sentence]\n",
    "        #print \"EOB\"\n",
    "        assert(len(sentence)==len(labels))\n",
    "        for i, (word,label) in enumerate(zip(sentence,labels)):\n",
    "            if i==0:\n",
    "                feat_prev_word= \"prev:BOD\"\n",
    "            else:\n",
    "                feat_prev_word = \"prev:%s\"%sentence[i-1].lower()\n",
    "            feat_curr_word = \"curr:%s\"%word.lower()\n",
    "            if i==len(sentence)-1:\n",
    "                feat_next_word = \"next:EOD\"\n",
    "            else:\n",
    "                feat_next_word = \"next:%s\"%sentence[i+1].lower()\n",
    "            #feat_curr_label = \"curr_label:%s\"%label\n",
    "            fp.write(\"{0} {1} {2} {3}\\n\".format(feat_prev_word, feat_curr_word, feat_next_word, label))"
   ]
  },
  {
   "cell_type": "code",
   "execution_count": 3,
   "metadata": {
    "collapsed": false
   },
   "outputs": [
    {
     "data": {
      "text/plain": [
       "0"
      ]
     },
     "execution_count": 3,
     "metadata": {},
     "output_type": "execute_result"
    }
   ],
   "source": [
    "os.system('java -cp \"/home/jbkoh/tools/mallet-2.0.8/class:/home/jbkoh/tools/mallet-2.0.8/lib/mallet-deps.jar\" cc.mallet.fst.SimpleTagger --train true --model-file model/{0}crf --threads 16 metadata/{0}_mallet_learning_sample.txt'.format(building_name))"
   ]
  },
  {
   "cell_type": "code",
   "execution_count": 4,
   "metadata": {
    "collapsed": true
   },
   "outputs": [],
   "source": [
    "with open('metadata/%s_mallet_test_sample.txt'%building_name, \"w\") as fp:\n",
    "    for srcid, sentence in sentence_dict.items():\n",
    "        sentence = [\"newline\" if word==\"\\n\" else word for word in sentence]\n",
    "        for i, word in enumerate(sentence):\n",
    "            if i==0:\n",
    "                feat_prev_word= \"prev:BOD\"\n",
    "            else:\n",
    "                feat_prev_word = \"prev:%s\"%sentence[i-1].lower()\n",
    "            feat_curr_word = \"curr:%s\"%word.lower()\n",
    "            if i==len(sentence)-1:\n",
    "                feat_next_word = \"next:EOD\"\n",
    "            else:\n",
    "                feat_next_word = \"next:%s\"%sentence[i+1].lower()\n",
    "            #feat_curr_label = \"curr_label:%s\"%label\n",
    "            fp.write(\"{0} {1} {2}\\n\".format(feat_prev_word, feat_curr_word, feat_next_word))"
   ]
  },
  {
   "cell_type": "code",
   "execution_count": 11,
   "metadata": {
    "collapsed": false
   },
   "outputs": [
    {
     "data": {
      "text/plain": [
       "0"
      ]
     },
     "execution_count": 11,
     "metadata": {},
     "output_type": "execute_result"
    }
   ],
   "source": [
    "os.system('java -Xmx12g -cp \"/home/jbkoh/tools/mallet-2.0.8/class:/home/jbkoh/tools/mallet-2.0.8/lib/mallet-deps.jar\" cc.mallet.fst.SimpleTagger --model-file model/{0}crf --threads 8 metadata/{0}_mallet_test_sample.txt > test_result/{0}_test.txt'.format(building_name))"
   ]
  },
  {
   "cell_type": "code",
   "execution_count": 12,
   "metadata": {
    "collapsed": false
   },
   "outputs": [],
   "source": [
    "with open('test_result/%s_test.txt'%building_name, 'r') as fp:\n",
    "    word_label_dict = dict()\n",
    "    for srcid, sentence in sentence_dict.items():\n",
    "        word_label_list = list()\n",
    "        for word in sentence:\n",
    "            label = fp.readline()\n",
    "            word_label_list.append((word, label))\n",
    "        word_label_dict[srcid] = word_label_list"
   ]
  },
  {
   "cell_type": "code",
   "execution_count": 29,
   "metadata": {
    "collapsed": true
   },
   "outputs": [],
   "source": [
    "with open('test_result/%s_with_tags.txt'%building_name, 'w') as fp:\n",
    "    for srcid, word_label_list in word_label_dict.items():\n",
    "        fp.write(\"========= {0} =========\\n\".format(srcid))\n",
    "        for (word, label) in word_label_list:\n",
    "            fp.write('{:20s} {:20s} \\n'.format(word, label))\n",
    "        fp.write(\"===============================\\n\")"
   ]
  },
  {
   "cell_type": "code",
   "execution_count": 14,
   "metadata": {
    "collapsed": false
   },
   "outputs": [
    {
     "data": {
      "text/plain": [
       "(u'505_1_3014679',\n",
       " [(u'nae', 'none \\n'),\n",
       "  (u'05', 'identifier \\n'),\n",
       "  (u'n', 'none \\n'),\n",
       "  (u'2', 'identifier \\n'),\n",
       "  (u'1', 'identifier \\n'),\n",
       "  (u'dx', 'network_adapter \\n'),\n",
       "  (u'12', 'identifier \\n'),\n",
       "  (u'file', 'none \\n'),\n",
       "  (u'server', 'server \\n'),\n",
       "  (u'chw', 'chilled_water \\n'),\n",
       "  (u'system', 'system \\n'),\n",
       "  (u'fcwsp', 'none \\n'),\n",
       "  (u'sp', 'setpoint \\n'),\n",
       "  (u'newline', 'none \\n'),\n",
       "  (u'ebu', 'building \\n'),\n",
       "  (u'3', 'identifier \\n'),\n",
       "  (u'b', 'identifier \\n'),\n",
       "  (u'.', 'none \\n'),\n",
       "  (u'fschw', 'chilled_water \\n'),\n",
       "  (u'.', 'none \\n'),\n",
       "  (u'fcwdp', 'none \\n'),\n",
       "  (u'-', 'none \\n'),\n",
       "  (u'stpt', 'setpoint \\n'),\n",
       "  (u'newline', 'none \\n'),\n",
       "  (u'chilled', 'chilled \\n'),\n",
       "  (u'water', 'water \\n'),\n",
       "  (u'pressure', 'humidity \\n'),\n",
       "  (u'setpoint', 'setpoint \\n'),\n",
       "  (u'newline', 'none \\n')])"
      ]
     },
     "execution_count": 14,
     "metadata": {},
     "output_type": "execute_result"
    }
   ],
   "source": [
    "word_label_dict.items()[0]"
   ]
  },
  {
   "cell_type": "code",
   "execution_count": null,
   "metadata": {
    "collapsed": true
   },
   "outputs": [],
   "source": []
  }
 ],
 "metadata": {
  "anaconda-cloud": {},
  "kernelspec": {
   "display_name": "Python [conda root]",
   "language": "python",
   "name": "conda-root-py"
  },
  "language_info": {
   "codemirror_mode": {
    "name": "ipython",
    "version": 2
   },
   "file_extension": ".py",
   "mimetype": "text/x-python",
   "name": "python",
   "nbconvert_exporter": "python",
   "pygments_lexer": "ipython2",
   "version": "2.7.12"
  }
 },
 "nbformat": 4,
 "nbformat_minor": 1
}
