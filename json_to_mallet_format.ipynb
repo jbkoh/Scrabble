{
 "cells": [
  {
   "cell_type": "code",
   "execution_count": 40,
   "metadata": {
    "collapsed": false
   },
   "outputs": [],
   "source": [
    "import json\n",
    "from collections import OrderedDict\n",
    "import os\n",
    "\n",
    "building_name = 'ebu3b'\n",
    "with open(\"metadata/%s_label_dict.json\"%building_name, 'r') as fp:\n",
    "    label_dict = json.load(fp)\n",
    "with open(\"metadata/%s_sentence_dict.json\"%building_name, \"r\") as fp:\n",
    "    sentence_dict = OrderedDict(json.load(fp))"
   ]
  },
  {
   "cell_type": "code",
   "execution_count": 42,
   "metadata": {
    "collapsed": false
   },
   "outputs": [],
   "source": [
    "with open(\"metadata/%s_mallet_learning_sample.txt\"%building_name, \"w\") as fp:\n",
    "    for srcid, labels in label_dict.items():\n",
    "        sentence = sentence_dict[srcid]\n",
    "        sentence = [\"newline\" if word==\"\\n\" else word for word in sentence]\n",
    "        #print \"EOB\"\n",
    "        assert(len(sentence)==len(labels))\n",
    "        for i, (word,label) in enumerate(zip(sentence,labels)):\n",
    "            if i==0:\n",
    "                feat_prev_word= \"prev:BOD\"\n",
    "            else:\n",
    "                feat_prev_word = \"prev:%s\"%sentence[i-1].lower()\n",
    "            feat_curr_word = \"curr:%s\"%word.lower()\n",
    "            if i==len(sentence)-1:\n",
    "                feat_next_word = \"next:EOD\"\n",
    "            else:\n",
    "                feat_next_word = \"next:%s\"%sentence[i+1].lower()\n",
    "            #feat_curr_label = \"curr_label:%s\"%label\n",
    "            fp.write(\"{0} {1} {2} {3}\\n\".format(feat_prev_word, feat_curr_word, feat_next_word, label))"
   ]
  },
  {
   "cell_type": "code",
   "execution_count": null,
   "metadata": {
    "collapsed": false
   },
   "outputs": [],
   "source": [
    "os.system('java -cp \"/home/jbkoh/tools/mallet-2.0.8/class:/home/jbkoh/tools/mallet-2.0.8/lib/mallet-deps.jar\" cc.mallet.fst.SimpleTagger --train true --model-file model/{0}crf --threads 16 metadata/{0}_mallet_learning_sample.txt'.format(building_name))"
   ]
  },
  {
   "cell_type": "code",
   "execution_count": 21,
   "metadata": {
    "collapsed": true
   },
   "outputs": [],
   "source": [
    "with open('metadata/%s_mallet_test_sample.txt'%building_name, \"w\") as fp:\n",
    "    for srcid, sentence in sentence_dict.items():\n",
    "        sentence = [\"newline\" if word==\"\\n\" else word for word in sentence]\n",
    "        for i, word in enumerate(sentence):\n",
    "            if i==0:\n",
    "                feat_prev_word= \"prev:BOD\"\n",
    "            else:\n",
    "                feat_prev_word = \"prev:%s\"%sentence[i-1].lower()\n",
    "            feat_curr_word = \"curr:%s\"%word.lower()\n",
    "            if i==len(sentence)-1:\n",
    "                feat_next_word = \"next:EOD\"\n",
    "            else:\n",
    "                feat_next_word = \"next:%s\"%sentence[i+1].lower()\n",
    "            #feat_curr_label = \"curr_label:%s\"%label\n",
    "            fp.write(\"{0} {1} {2}\\n\".format(feat_prev_word, feat_curr_word, feat_next_word))"
   ]
  },
  {
   "cell_type": "code",
   "execution_count": 26,
   "metadata": {
    "collapsed": false
   },
   "outputs": [
    {
     "data": {
      "text/plain": [
       "0"
      ]
     },
     "execution_count": 26,
     "metadata": {},
     "output_type": "execute_result"
    }
   ],
   "source": [
    "os.system('java -Xmx8g -cp \"/home/jbkoh/tools/mallet-2.0.8/class:/home/jbkoh/tools/mallet-2.0.8/lib/mallet-deps.jar\" cc.mallet.fst.SimpleTagger --model-file model/{0}crf --threads 8 metadata/{0}_mallet_test_sample.txt > test_result/{0}_test.txt'.format(building_name))"
   ]
  },
  {
   "cell_type": "code",
   "execution_count": 29,
   "metadata": {
    "collapsed": false
   },
   "outputs": [],
   "source": [
    "with open('test_result/%s_test.txt'%building_name, 'r') as fp:\n",
    "    word_label_dict = dict()\n",
    "    for srcid, sentence in sentence_dict.items():\n",
    "        word_label_list = list()\n",
    "        for word in sentence:\n",
    "            label = fp.readline()\n",
    "            word_label_list.append((word, label))\n",
    "        word_label_dict[srcid] = word_label_list"
   ]
  },
  {
   "cell_type": "code",
   "execution_count": 39,
   "metadata": {
    "collapsed": false
   },
   "outputs": [
    {
     "data": {
      "text/plain": [
       "[(u'nae', 'network_adapter \\n'),\n",
       " (u'06', 'identifier \\n'),\n",
       " (u'n', 'network_adapter \\n'),\n",
       " (u'2', 'identifier \\n'),\n",
       " (u'2', 'identifier \\n'),\n",
       " (u'vma', 'vav \\n'),\n",
       " (u'181', 'identifier \\n'),\n",
       " (u'htgpid', 'heating_command \\n'),\n",
       " (u'o', 'none \\n'),\n",
       " (u'\\n', 'none \\n'),\n",
       " (u'ebu', 'building \\n'),\n",
       " (u'3', 'identifier \\n'),\n",
       " (u'b', 'identifier \\n'),\n",
       " (u'.', 'none \\n'),\n",
       " (u'rm', 'room \\n'),\n",
       " (u'-', 'none \\n'),\n",
       " (u'4128', 'identifier \\n'),\n",
       " (u'.', 'none \\n'),\n",
       " (u'.', 'none \\n'),\n",
       " (u'htgpid', 'heating_command \\n'),\n",
       " (u'-', 'none \\n'),\n",
       " (u'o', 'none \\n'),\n",
       " (u'\\n', 'none \\n'),\n",
       " (u'heating', 'heating \\n'),\n",
       " (u'command', 'command \\n'),\n",
       " (u'\\n', 'none \\n')]"
      ]
     },
     "execution_count": 39,
     "metadata": {},
     "output_type": "execute_result"
    }
   ],
   "source": [
    "with open('test_result/%s_with_tags.txt'%building_name, 'w') as fp:\n",
    "    for srcid, word_label_list in word_label_dict.items():\n",
    "        "
   ]
  }
 ],
 "metadata": {
  "anaconda-cloud": {},
  "kernelspec": {
   "display_name": "Python [conda root]",
   "language": "python",
   "name": "conda-root-py"
  },
  "language_info": {
   "codemirror_mode": {
    "name": "ipython",
    "version": 2
   },
   "file_extension": ".py",
   "mimetype": "text/x-python",
   "name": "python",
   "nbconvert_exporter": "python",
   "pygments_lexer": "ipython2",
   "version": "2.7.12"
  }
 },
 "nbformat": 4,
 "nbformat_minor": 1
}
