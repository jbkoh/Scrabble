{
 "cells": [
  {
   "cell_type": "code",
   "execution_count": 36,
   "metadata": {
    "collapsed": true
   },
   "outputs": [],
   "source": [
    "import json\n",
    "from collections import OrderedDict, defaultdict\n",
    "from operator import itemgetter"
   ]
  },
  {
   "cell_type": "code",
   "execution_count": 5,
   "metadata": {
    "collapsed": false
   },
   "outputs": [],
   "source": [
    "building_name = 'ebu3b'\n",
    "with open('metadata/{0}_sentence_dict_justseparate.json'.format(building_name), 'r') as fp:\n",
    "    word_sentence_dict = json.load(fp)\n",
    "with open('metadata/{0}_label_dict.json'.format(building_name), 'r') as fp:\n",
    "    word_label_dict = json.load(fp)"
   ]
  },
  {
   "cell_type": "code",
   "execution_count": 59,
   "metadata": {
    "collapsed": false
   },
   "outputs": [],
   "source": [
    "# These part could be automated with Brick.\n",
    "category_dict = {\n",
    "    'equipment': ['vav', 'chilled_water_pump', 'hot_water_pump', 'ahu', 'supply_fan', 'return_fan', 'exhaust_fan'],\n",
    "    'network_adapter': ['vnd', 'network_adapter'],\n",
    "    'idenfitier': ['identifier'],\n",
    "    'location': ['room', 'floor', 'building', 'server'],\n",
    "    'none': ['none']\n",
    "}"
   ]
  },
  {
   "cell_type": "code",
   "execution_count": 60,
   "metadata": {
    "collapsed": true
   },
   "outputs": [],
   "source": [
    "def get_key(d, v):\n",
    "    for k, v_list in d.items():\n",
    "        if v in v_list:\n",
    "            return k\n",
    "    return 'pointtype'"
   ]
  },
  {
   "cell_type": "code",
   "execution_count": 63,
   "metadata": {
    "collapsed": false
   },
   "outputs": [],
   "source": [
    "char_sentence_category_dict = dict()\n",
    "char_sentence_label_dict = dict()\n",
    "for srcid, word_labels in word_label_dict.items():\n",
    "    char_sentence_category = list()\n",
    "    char_sentence_label = list()\n",
    "    word_sentence = word_sentence_dict[srcid]\n",
    "    for word, label in zip(word_sentence, word_labels):\n",
    "        char_sentence_label.append((word[0], 'start_' + label))\n",
    "        category = get_key(category_dict, label)\n",
    "        char_sentence_category.append((word[0], 'start_' + category))\n",
    "        for char in word[1:]:\n",
    "            char_sentence_category.append((char, 'middle_' + category))\n",
    "            char_sentence_label.append((char, 'middle_' + label))\n",
    "    char_sentence_category_dict[srcid] = char_sentence_category\n",
    "    char_sentence_label_dict[srcid] = char_sentence_label"
   ]
  },
  {
   "cell_type": "code",
   "execution_count": 65,
   "metadata": {
    "collapsed": false
   },
   "outputs": [],
   "source": [
    "with open('metadata/{0}_char_category_dict.json'.format(building_name), 'w') as fp:\n",
    "    json.dump(char_sentence_category_dict, fp, indent=2)\n",
    "with open('metadata/{0}_char_label_dict.json'.format(building_name), 'w') as fp:\n",
    "    json.dump(char_sentence_label_dict, fp, indent=2)"
   ]
  },
  {
   "cell_type": "code",
   "execution_count": null,
   "metadata": {
    "collapsed": true
   },
   "outputs": [],
   "source": []
  }
 ],
 "metadata": {
  "kernelspec": {
   "display_name": "Python 3",
   "language": "python",
   "name": "python3"
  },
  "language_info": {
   "codemirror_mode": {
    "name": "ipython",
    "version": 3
   },
   "file_extension": ".py",
   "mimetype": "text/x-python",
   "name": "python",
   "nbconvert_exporter": "python",
   "pygments_lexer": "ipython3",
   "version": "3.6.0"
  }
 },
 "nbformat": 4,
 "nbformat_minor": 2
}
