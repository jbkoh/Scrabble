{
 "cells": [
  {
   "cell_type": "code",
   "execution_count": 7,
   "metadata": {
    "collapsed": true
   },
   "outputs": [],
   "source": [
    "import json\n",
    "from collections import OrderedDict, defaultdict\n",
    "from operator import itemgetter"
   ]
  },
  {
   "cell_type": "code",
   "execution_count": 8,
   "metadata": {
    "collapsed": true
   },
   "outputs": [],
   "source": [
    "# Add BILOU and BIO representation.\n"
   ]
  },
  {
   "cell_type": "code",
   "execution_count": 9,
   "metadata": {
    "collapsed": false
   },
   "outputs": [],
   "source": [
    "building_name = 'ap_m'\n",
    "with open('metadata/{0}_sentence_dict_justseparate.json'.format(building_name), 'r') as fp:\n",
    "    word_sentence_dict = json.load(fp)\n",
    "with open('metadata/{0}_label_dict.json'.format(building_name), 'r') as fp:\n",
    "    word_label_dict = json.load(fp)"
   ]
  },
  {
   "cell_type": "code",
   "execution_count": 10,
   "metadata": {
    "collapsed": false
   },
   "outputs": [],
   "source": [
    "# These part could be automated with Brick.\n",
    "category_dict = {\n",
    "    'equipment': ['vav', 'chilled_water_pump', 'hot_water_pump', 'ahu', 'supply_fan', 'return_fan', 'exhaust_fan'],\n",
    "    'network_adapter': ['vnd', 'network_adapter'],\n",
    "    'idenfitier': ['identifier'],\n",
    "    'location': ['room', 'floor', 'building', 'server'],\n",
    "    'none': ['none']\n",
    "}"
   ]
  },
  {
   "cell_type": "code",
   "execution_count": 11,
   "metadata": {
    "collapsed": true
   },
   "outputs": [],
   "source": [
    "def get_key(d, v):\n",
    "    for k, v_list in d.items():\n",
    "        if v in v_list:\n",
    "            return k\n",
    "    return 'pointtype'"
   ]
  },
  {
   "cell_type": "code",
   "execution_count": 12,
   "metadata": {
    "collapsed": false
   },
   "outputs": [],
   "source": [
    "char_sentence_category_dict = dict()\n",
    "char_sentence_label_dict = dict()\n",
    "for srcid, word_labels in word_label_dict.items():\n",
    "    char_sentence_category = list()\n",
    "    char_sentence_label = list()\n",
    "    word_sentence = word_sentence_dict[srcid]\n",
    "    for word, label in zip(word_sentence, word_labels):\n",
    "        if label=='none':\n",
    "            for char in word:\n",
    "                char_sentence_label.append((char, 'O'))\n",
    "                char_sentence_category.append((char, 'O'))\n",
    "        else:\n",
    "            category = get_key(category_dict, label)\n",
    "            if len(word)==1:\n",
    "                char_sentence_label.append((word[0], 'U_'+label))\n",
    "                char_sentence_category.append((word[0], 'U_'+category))\n",
    "            else:\n",
    "                char_sentence_label.append((word[0], 'B_' + label))\n",
    "                char_sentence_category.append((word[0], 'B_' + category))\n",
    "                for char in word[1:-1]:\n",
    "                    char_sentence_category.append((char, 'I_' + category))\n",
    "                    char_sentence_label.append((char, 'I_' + label))\n",
    "                char_sentence_label.append((word[-1], 'L_' + label))\n",
    "                char_sentence_category.append((word[-1], 'L_' + category))\n",
    "    char_sentence_category_dict[srcid] = char_sentence_category\n",
    "    char_sentence_label_dict[srcid] = char_sentence_label"
   ]
  },
  {
   "cell_type": "code",
   "execution_count": 13,
   "metadata": {
    "collapsed": false
   },
   "outputs": [],
   "source": [
    "with open('metadata/{0}_char_category_dict.json'.format(building_name), 'w') as fp:\n",
    "    json.dump(char_sentence_category_dict, fp, indent=2)\n",
    "with open('metadata/{0}_char_label_dict.json'.format(building_name), 'w') as fp:\n",
    "    json.dump(char_sentence_label_dict, fp, indent=2)"
   ]
  },
  {
   "cell_type": "code",
   "execution_count": null,
   "metadata": {
    "collapsed": true
   },
   "outputs": [],
   "source": []
  }
 ],
 "metadata": {
  "kernelspec": {
   "display_name": "Python 3",
   "language": "python",
   "name": "python3"
  },
  "language_info": {
   "codemirror_mode": {
    "name": "ipython",
    "version": 3
   },
   "file_extension": ".py",
   "mimetype": "text/x-python",
   "name": "python",
   "nbconvert_exporter": "python",
   "pygments_lexer": "ipython3",
   "version": "3.6.0"
  }
 },
 "nbformat": 4,
 "nbformat_minor": 2
}
