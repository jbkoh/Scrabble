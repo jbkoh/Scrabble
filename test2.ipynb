{
 "cells": [
  {
   "cell_type": "code",
   "execution_count": 30,
   "metadata": {
    "collapsed": true
   },
   "outputs": [],
   "source": [
    "import json\n",
    "import pandas as pd\n",
    "import feature_extractor\n",
    "reload(feature_extractor)\n",
    "from feature_extractor import *\n",
    "data = pd.Series.from_csv('data/505_0_3000190.csv', header=0)"
   ]
  },
  {
   "cell_type": "code",
   "execution_count": 31,
   "metadata": {
    "collapsed": false
   },
   "outputs": [
    {
     "data": {
      "text/plain": [
       "[74.0,\n",
       " 73.569999999999993,\n",
       " 73.77114570770104,\n",
       " 0.43000000000000682,\n",
       " 0.1411447579955439,\n",
       " 0.17966287874795092,\n",
       " 74.0,\n",
       " 73.629999999999995,\n",
       " 6.7705264432538206,\n",
       " 1282.9720279720741,\n",
       " 547.74942060557237,\n",
       " 195.40428251097907]"
      ]
     },
     "execution_count": 31,
     "metadata": {},
     "output_type": "execute_result"
    }
   ],
   "source": [
    "get_features(data)"
   ]
  },
  {
   "cell_type": "code",
   "execution_count": null,
   "metadata": {
    "collapsed": true
   },
   "outputs": [],
   "source": []
  }
 ],
 "metadata": {
  "anaconda-cloud": {},
  "kernelspec": {
   "display_name": "Python [conda root]",
   "language": "python",
   "name": "conda-root-py"
  },
  "language_info": {
   "codemirror_mode": {
    "name": "ipython",
    "version": 2
   },
   "file_extension": ".py",
   "mimetype": "text/x-python",
   "name": "python",
   "nbconvert_exporter": "python",
   "pygments_lexer": "ipython2",
   "version": "2.7.12"
  }
 },
 "nbformat": 4,
 "nbformat_minor": 1
}
