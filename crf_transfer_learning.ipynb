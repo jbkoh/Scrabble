{
 "cells": [
  {
   "cell_type": "code",
   "execution_count": 1,
   "metadata": {
    "collapsed": true
   },
   "outputs": [],
   "source": [
    "import os\n",
    "from functools import reduce\n",
    "import json                                                                     \n",
    "import random\n",
    "from collections import OrderedDict\n",
    "import pdb\n",
    "from copy import deepcopy\n",
    "from operator import itemgetter\n",
    "\n",
    "import pycrfsuite                                                               \n",
    "import pandas as pd                                                             \n",
    "import numpy as np    "
   ]
  },
  {
   "cell_type": "code",
   "execution_count": 14,
   "metadata": {
    "collapsed": false
   },
   "outputs": [],
   "source": [
    "target_building_name = 'ap_m'\n",
    "source_building_name = 'ebu3b'\n",
    "token_type = 'justseparate'\n",
    "#token_types = ['alphaandnum', 'justseparate']\n",
    "label_type = 'label'\n",
    "#label_types = ['label', 'category']\n",
    "USE_CLUSTER = False\n",
    "SAMPLE_NUM = 200\n",
    "\n",
    "data_available_buildings = []\n",
    "\n",
    "with open('metadata/{0}_char_sentence_dict_{1}.json'.format(target_building_name, token_type), 'r') as fp:\n",
    "    char_sentence_dict = json.load(fp)\n",
    "with open('metadata/{0}_sentence_dict_{1}.json'.format(target_building_name, token_type), 'r') as fp:\n",
    "    word_sentence_dict = json.load(fp)\n",
    "\n",
    "sentence_dict = char_sentence_dict\n",
    "crf_model_file = 'model/crf_params_char_{0}_{1}_{2}_{3}_{4}.crfsuite'\\\n",
    "                 .format(source_building_name, token_type, label_type, str(SAMPLE_NUM), \\\n",
    "                         'clustered' if USE_CLUSTER else 'notclustered')"
   ]
  },
  {
   "cell_type": "code",
   "execution_count": 15,
   "metadata": {
    "collapsed": false
   },
   "outputs": [
    {
     "data": {
      "text/plain": [
       "<contextlib.closing at 0x7f8e57fabfd0>"
      ]
     },
     "execution_count": 15,
     "metadata": {},
     "output_type": "execute_result"
    }
   ],
   "source": [
    "tagger = pycrfsuite.Tagger()\n",
    "tagger.open(crf_model_file)"
   ]
  },
  {
   "cell_type": "code",
   "execution_count": 16,
   "metadata": {
    "collapsed": true
   },
   "outputs": [],
   "source": [
    "def calc_features(sentence, ts_features=None):\n",
    "    sentenceFeatures = list()\n",
    "    for i, word in enumerate(sentence):\n",
    "        features = {\n",
    "            'word.lower='+word.lower(): 1.0,\n",
    "            'word.isdigit': float(word.isdigit())\n",
    "        }\n",
    "        if i==0:\n",
    "            features['BOS'] = 1.0\n",
    "        else:\n",
    "            features['-1:word.lower=' + sentence[i-1].lower()] = 1.0\n",
    "            \n",
    "        if i in [0,1]:\n",
    "            features['SECOND'] = 1.0\n",
    "        else:\n",
    "            features['-2:word.lower=' + sentence[i-2].lower()] = 1.0\n",
    "            \n",
    "        if i<len(sentence)-1:\n",
    "            features['+1:word.lower='+sentence[i+1].lower()] = 1.0\n",
    "        else:\n",
    "            features['EOS'] = 1.0\n",
    "        if ts_features:\n",
    "            for j, feat in enumerate(ts_features):\n",
    "                features['ts_feat_'+str(j)] = feat\n",
    "        sentenceFeatures.append(features)\n",
    "    return sentenceFeatures"
   ]
  },
  {
   "cell_type": "code",
   "execution_count": 17,
   "metadata": {
    "collapsed": false
   },
   "outputs": [],
   "source": [
    "#%%time\n",
    "predicted_dict = dict()\n",
    "score_dict = dict()\n",
    "for srcid, sentence in sentence_dict.items():\n",
    "    predicted = tagger.tag(calc_features(sentence))\n",
    "    predicted_dict[srcid] = predicted\n",
    "    score_dict[srcid] = tagger.probability(predicted)"
   ]
  },
  {
   "cell_type": "code",
   "execution_count": 18,
   "metadata": {
    "collapsed": false
   },
   "outputs": [
    {
     "name": "stdout",
     "output_type": "stream",
     "text": [
      "nae14n2trunk2ahu6hx2mtws\n",
      "ap&m.hx-2.hx2-mtws\n",
      "hx2mediumtempwatersupply\n",
      "\n",
      "n\tB_network_adapter\n",
      "a\tI_network_adapter\n",
      "e\tL_network_adapter\n",
      "1\tB_identifier\n",
      "4\tL_identifier\n",
      "n\tU_network_adapter\n",
      "2\tU_identifier\n",
      "t\tU_identifier\n",
      "r\tB_run\n",
      "u\tI_run\n",
      "n\tL_run\n",
      "k\tU_network_adapter\n",
      "2\tU_identifier\n",
      "a\tU_identifier\n",
      "h\tB_network_adapter\n",
      "u\tI_effective\n",
      "6\tL_effective\n",
      "h\tB_heating\n",
      "x\tB_identifier\n",
      "2\tL_identifier\n",
      "m\tB_medium\n",
      "t\tI_medium\n",
      "w\tI_medium\n",
      "s\tL_medium\n",
      "\n",
      "\tO\n",
      "a\tB_damper\n",
      "p\tI_damper\n",
      "&\tI_damper\n",
      "m\tL_damper\n",
      ".\tO\n",
      "h\tB_high\n",
      "x\tL_high\n",
      "-\tO\n",
      "2\tU_identifier\n",
      ".\tO\n",
      "h\tB_heat_exchanger\n",
      "x\tL_heat_exchanger\n",
      "2\tU_identifier\n",
      "-\tO\n",
      "m\tB_medium\n",
      "t\tI_medium\n",
      "w\tI_medium\n",
      "s\tL_medium\n",
      "\n",
      "\tO\n",
      "h\tB_heat_exchanger\n",
      "x\tL_heat_exchanger\n",
      "2\tU_identifier\n",
      "m\tB_mixed_air\n",
      "e\tL_mixed_air\n",
      "d\tB_time\n",
      "i\tI_time\n",
      "u\tI_humidity\n",
      "m\tI_humidity\n",
      "t\tB_temperature\n",
      "e\tI_temperature\n",
      "m\tI_temperature\n",
      "p\tI_temperature\n",
      "w\tI_temperature\n",
      "a\tI_temperature\n",
      "t\tI_temperature\n",
      "e\tI_temperature\n",
      "r\tI_temperature\n",
      "s\tB_supply\n",
      "u\tI_supply\n",
      "p\tI_supply\n",
      "p\tI_supply\n",
      "l\tI_supply\n",
      "y\tL_supply\n",
      "\n",
      "\tO\n"
     ]
    }
   ],
   "source": [
    "srcid = '514_0_3006333'\n",
    "sentence = sentence_dict[srcid]\n",
    "pred_labels = predicted_dict[srcid]\n",
    "print(''.join(sentence))\n",
    "for c, predicted in zip(sentence, pred_labels):\n",
    "    print('{0}\\t{1}'.format(c, predicted))"
   ]
  },
  {
   "cell_type": "code",
   "execution_count": null,
   "metadata": {
    "collapsed": true
   },
   "outputs": [],
   "source": []
  }
 ],
 "metadata": {
  "kernelspec": {
   "display_name": "Python 3",
   "language": "python",
   "name": "python3"
  },
  "language_info": {
   "codemirror_mode": {
    "name": "ipython",
    "version": 3
   },
   "file_extension": ".py",
   "mimetype": "text/x-python",
   "name": "python",
   "nbconvert_exporter": "python",
   "pygments_lexer": "ipython3",
   "version": "3.6.0"
  }
 },
 "nbformat": 4,
 "nbformat_minor": 2
}
