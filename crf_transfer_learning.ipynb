{
 "cells": [
  {
   "cell_type": "code",
   "execution_count": 110,
   "metadata": {
    "collapsed": true
   },
   "outputs": [],
   "source": [
    "import os\n",
    "from functools import reduce\n",
    "import json                                                                     \n",
    "import random\n",
    "from collections import OrderedDict\n",
    "import pdb\n",
    "from copy import deepcopy\n",
    "from operator import itemgetter\n",
    "from itertools import islice\n",
    "import matplotlib.pyplot as plt\n",
    "\n",
    "import pycrfsuite                                                               \n",
    "import pandas as pd                                                             \n",
    "import numpy as np    "
   ]
  },
  {
   "cell_type": "code",
   "execution_count": 95,
   "metadata": {
    "collapsed": false
   },
   "outputs": [],
   "source": [
    "source_building_name = 'ap_m'\n",
    "target_building_name = 'ebu3b'\n",
    "token_type = 'justseparate'\n",
    "#token_types = ['alphaandnum', 'justseparate']\n",
    "label_type = 'label'\n",
    "#label_types = ['label', 'category']\n",
    "USE_CLUSTER = False\n",
    "SAMPLE_NUM = 200\n",
    "\n",
    "data_available_buildings = []\n",
    "\n",
    "with open('metadata/{0}_char_label_dict.json'.format(target_building_name), 'r') as fp:\n",
    "    target_label_dict = json.load(fp)\n",
    "with open('metadata/{0}_char_sentence_dict_{1}.json'.format(target_building_name, token_type), 'r') as fp:\n",
    "    char_sentence_dict = json.load(fp)\n",
    "with open('metadata/{0}_sentence_dict_{1}.json'.format(target_building_name, token_type), 'r') as fp:\n",
    "    word_sentence_dict = json.load(fp)\n",
    "\n",
    "sentence_dict = char_sentence_dict\n",
    "sentence_dict = dict((srcid, sentence) for srcid, sentence in sentence_dict.items() if target_label_dict.get(srcid))\n",
    "crf_model_file = 'model/crf_params_char_{0}_{1}_{2}_{3}_{4}.crfsuite'\\\n",
    "                 .format(source_building_name, token_type, label_type, str(SAMPLE_NUM), \\\n",
    "                         'clustered' if USE_CLUSTER else 'notclustered')"
   ]
  },
  {
   "cell_type": "code",
   "execution_count": 96,
   "metadata": {
    "collapsed": false
   },
   "outputs": [
    {
     "data": {
      "text/plain": [
       "<contextlib.closing at 0x7f8e5e5a9780>"
      ]
     },
     "execution_count": 96,
     "metadata": {},
     "output_type": "execute_result"
    }
   ],
   "source": [
    "tagger = pycrfsuite.Tagger()\n",
    "tagger.open(crf_model_file)"
   ]
  },
  {
   "cell_type": "code",
   "execution_count": 97,
   "metadata": {
    "collapsed": true
   },
   "outputs": [],
   "source": [
    "def calc_features(sentence, ts_features=None):\n",
    "    sentenceFeatures = list()\n",
    "    sentence = ['$' if c.isdigit() else c for c in sentence]\n",
    "    \n",
    "    for i, word in enumerate(sentence):\n",
    "        features = {\n",
    "            'word.lower='+word.lower(): 1.0,\n",
    "            'word.isdigit': float(word.isdigit())\n",
    "        }\n",
    "        if i==0:\n",
    "            features['BOS'] = 1.0\n",
    "        else:\n",
    "            features['-1:word.lower=' + sentence[i-1].lower()] = 1.0\n",
    "            \n",
    "        if i in [0,1]:\n",
    "            features['SECOND'] = 1.0\n",
    "        else:\n",
    "            features['-2:word.lower=' + sentence[i-2].lower()] = 1.0\n",
    "            \n",
    "        if i<len(sentence)-1:\n",
    "            features['+1:word.lower='+sentence[i+1].lower()] = 1.0\n",
    "        else:\n",
    "            features['EOS'] = 1.0\n",
    "        if ts_features:\n",
    "            for j, feat in enumerate(ts_features):\n",
    "                features['ts_feat_'+str(j)] = feat\n",
    "        sentenceFeatures.append(features)\n",
    "    return sentenceFeatures"
   ]
  },
  {
   "cell_type": "code",
   "execution_count": 98,
   "metadata": {
    "collapsed": false
   },
   "outputs": [],
   "source": [
    "#%%time\n",
    "predicted_dict = dict()\n",
    "score_dict = dict()\n",
    "for srcid, sentence in sentence_dict.items():\n",
    "    predicted = tagger.tag(calc_features(sentence))\n",
    "    predicted_dict[srcid] = predicted\n",
    "    score_dict[srcid] = tagger.probability(predicted)"
   ]
  },
  {
   "cell_type": "code",
   "execution_count": 112,
   "metadata": {
    "collapsed": false,
    "scrolled": true
   },
   "outputs": [
    {
     "name": "stdout",
     "output_type": "stream",
     "text": [
      "Precision:  0.7690840242118248\n"
     ]
    }
   ],
   "source": [
    "DEBUG = False\n",
    "precisionOfTrainingDataset = 0\n",
    "totalWordCount = 0\n",
    "error_rate_dict = dict()\n",
    "\n",
    "if DEBUG:\n",
    "    print_len = 100\n",
    "else:\n",
    "    print_len = len(target_label_dict)\n",
    "\n",
    "for srcid, sentence_label in islice(target_label_dict.items(), print_len):\n",
    "    sentence = sentence_dict[srcid]                                              \n",
    "    predicted = predicted_dict[srcid]\n",
    "    printing_pairs = list()\n",
    "    orig_label_list = map(itemgetter(1), sentence_label)\n",
    "    for word, predTag, origLabel in zip(sentence, predicted, orig_label_list):\n",
    "        printing_pair = [word,predTag,origLabel]                            \n",
    "        if predTag==origLabel:                                          \n",
    "            precisionOfTrainingDataset += 1                             \n",
    "            printing_pair = ['O'] + printing_pair                       \n",
    "        else:                                                           \n",
    "            printing_pair = ['X'] + printing_pair                                       \n",
    "        totalWordCount += 1                                                 \n",
    "        printing_pairs.append(printing_pair)                                \n",
    "    if DEBUG:\n",
    "        print(\"=========== {0} ==== {1} ===================\".format(srcid, score_dict[srcid]))\n",
    "    error_rate_dict[srcid] = sum([pair[0]=='X' for pair in printing_pairs])/float(len(sentence))\n",
    "    if 'X' in [pair[0] for pair in printing_pairs]:\n",
    "        for (flag, word, predTag, origLabel) in printing_pairs:\n",
    "            if DEBUG:\n",
    "                print('{:5s} {:20s} {:20s} {:20s}'\\\n",
    "                      .format(flag, word, predTag, origLabel))\n",
    "print(\"Precision: \", precisionOfTrainingDataset/totalWordCount)"
   ]
  },
  {
   "cell_type": "code",
   "execution_count": 123,
   "metadata": {
    "collapsed": true
   },
   "outputs": [],
   "source": [
    "import numpy as np"
   ]
  },
  {
   "cell_type": "code",
   "execution_count": 221,
   "metadata": {
    "collapsed": false
   },
   "outputs": [
    {
     "name": "stderr",
     "output_type": "stream",
     "text": [
      "/home/jbkoh/anaconda3/lib/python3.6/site-packages/ipykernel/__main__.py:6: RuntimeWarning: divide by zero encountered in log\n"
     ]
    }
   ],
   "source": [
    "import random\n",
    "score_list = list()\n",
    "error_rate_list = list()\n",
    "\n",
    "for srcid, score in OrderedDict(sorted(score_dict.items(), key=itemgetter(1), reverse=True)).items():\n",
    "    score_list.append(np.log(score))# + random.uniform(-5,5))\n",
    "    error_rate_list.append(error_rate_dict[srcid])# + random.uniform(-0.1,0.1))"
   ]
  },
  {
   "cell_type": "code",
   "execution_count": 222,
   "metadata": {
    "collapsed": false
   },
   "outputs": [
    {
     "data": {
      "image/png": "[encoded data removed]",
      "text/plain": [
       "<matplotlib.figure.Figure at 0x7f8e557ce908>"
      ]
     },
     "metadata": {},
     "output_type": "display_data"
    }
   ],
   "source": [
    "plt.scatter(score_list, error_rate_list, alpha=0.3)\n",
    "plt.show()\n",
    "#plt.hist(score_list, 50)\n",
    "# the histogram of the data\n",
    "#n, bins, patches = plt.hist(score_list, 50, normed=1, facecolor='green', alpha=0.75)\n",
    "\n",
    "# add a 'best fit' line\n",
    "#y = mlab.normpdf( bins, mu, sigma)\n",
    "#l = plt.plot(bins, y, 'r--', linewidth=1)"
   ]
  },
  {
   "cell_type": "code",
   "execution_count": 206,
   "metadata": {
    "collapsed": false
   },
   "outputs": [
    {
     "data": {
      "text/plain": [
       "-0.3830834126407877"
      ]
     },
     "execution_count": 206,
     "metadata": {},
     "output_type": "execute_result"
    }
   ],
   "source": []
  }
 ],
 "metadata": {
  "kernelspec": {
   "display_name": "Python 3",
   "language": "python",
   "name": "python3"
  },
  "language_info": {
   "codemirror_mode": {
    "name": "ipython",
    "version": 3
   },
   "file_extension": ".py",
   "mimetype": "text/x-python",
   "name": "python",
   "nbconvert_exporter": "python",
   "pygments_lexer": "ipython3",
   "version": "3.6.0"
  }
 },
 "nbformat": 4,
 "nbformat_minor": 2
}
