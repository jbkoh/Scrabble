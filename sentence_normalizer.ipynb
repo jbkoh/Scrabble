{
 "cells": [
  {
   "cell_type": "code",
   "execution_count": 22,
   "metadata": {
    "collapsed": false
   },
   "outputs": [],
   "source": [
    "import building_tokenizer as toker\n",
    "import json\n",
    "import pandas as pd\n",
    "from collections import Counter, OrderedDict\n",
    "from copy import deepcopy\n",
    "from functools import reduce\n",
    "from IPython.display import Audio\n",
    "import pdb"
   ]
  },
  {
   "cell_type": "code",
   "execution_count": 23,
   "metadata": {
    "collapsed": false
   },
   "outputs": [],
   "source": [
    "#naeListDict['Applied_Physics_and_Mathematics'] = ['514', '513', '604']\n",
    "#naeListDict['Computer_Science_and_Engineering_Building'] = ['505', '506']\n",
    "#naeListDict['Conrad_Prebys_Music_Center'] = ['523']\n",
    "#naeListDict['San_Diego_Supercomputer_Center'] = ['668', '575', '524', '520']\n",
    "#naeListDict['Literature_Building'] = ['553']\n",
    "#naeListDict['Structural_and_Materials_Engineering_Building'] = ['572', '573', '574']\n",
    "#naeListDict['Jacobs_Hall'] = ['620', '621', '622', '623', '650', '639', '638', '642', '643', '640', \\\n",
    "#                              '641', '637', '646', '644', '645']\n",
    "#naeListDict['Warren_Lecture_Hall'] = ['555', '552']\n",
    "#naeDict = dict()\n",
    "#naeDict['bonner'] = [\"607\", \"608\", \"609\", \"557\", \"610\"]\n",
    "#naeDict['ap_m'] = ['514', '513','604']\n",
    "#naeDict['bsb'] = ['519', '568', '567', '566', '564', '565']\n",
    "#naeDict['ebu3b'] = [\"505\", \"506\"]\n",
    "#naeDict['music'] = ['523']\n",
    "#naeDict['sme'] = ['572', '573', '574']\n",
    "#naeDict['otterson'] = [\"518\", \"517\", \"589\", \"590\"]"
   ]
  },
  {
   "cell_type": "code",
   "execution_count": 24,
   "metadata": {
    "collapsed": true
   },
   "outputs": [],
   "source": [
    "token_map_dict = dict()\n",
    "token_map_dict['ap_m'] = {\n",
    "    'vavb': ['vav', 'b'],\n",
    "    'lvfd': ['l', 'vfd'],\n",
    "    'rvfd': ['r', 'vfd'],\n",
    "    'bsmtsf': ['bsmt', 'sf'],\n",
    "    'lvlco': ['lvl', 'co'],\n",
    "    'flsf': ['fl', 'sf'],\n",
    "    'evfd': ['e', 'vfd'],\n",
    "    'flah': ['fl', 'ah'],\n",
    "    'avgzn': ['avg', 'zn'],\n",
    "    'bsmtah': ['bsmt', 'ah'],\n",
    "    'rfil': ['r', 'fil'],\n",
    "    'nef': ['n', 'ef'],\n",
    "    'rftr': ['r', 'ftr']\n",
    "}\n",
    "token_map_dict['ebu3b'] = {\n",
    "    'fschw': ['fs', 'chw'],\n",
    "    'fcwsp': ['f', 'cwsp'],\n",
    "    'tempsetf': ['tempset', 'f'],\n",
    "    'brm': ['b', 'rm'],\n",
    "    'rmb': ['rm', 'b'],\n",
    "    'conferenceroom': ['conference', 'room'],\n",
    "}\n",
    "\n",
    "token_map_dict['sme'] = {}\n",
    "token_map_dict['music'] = {}\n",
    "\n",
    "\n"
   ]
  },
  {
   "cell_type": "code",
   "execution_count": 25,
   "metadata": {
    "collapsed": false
   },
   "outputs": [],
   "source": [
    "buildingNameList = ['ebu3b', 'ap_m']#sme', 'music']\n",
    "notUcsdBuildings = ['ghc']\n",
    "\n",
    "adder = lambda x,y:x+y\n",
    "\n",
    "\n",
    "for buildingName in buildingNameList:\n",
    "    token_map = token_map_dict[buildingName]\n",
    "    def word_tokenize(word):\n",
    "        if token_map.get(word):\n",
    "            return token_map[word]\n",
    "        else:\n",
    "            return [word]\n",
    "    #for tokenType in ['AlphaAndNum', 'JustSeparate']:\n",
    "    for tokenType in ['JustSeparate']:\n",
    "        if not buildingName in notUcsdBuildings:\n",
    "            sensorDF, srcid_list, name_list, jciname_list, desc_list, unit_list, bacnettype_list =\\\n",
    "                toker.parse_sentences(buildingName)\n",
    "            sensorDF\n",
    "            \n",
    "        sentence_dict = dict()\n",
    "        char_sentence_dict = dict()\n",
    "        for i, row in enumerate(zip(name_list, jciname_list, desc_list)):\n",
    "            srcid = srcid_list[i]\n",
    "            para = list()\n",
    "            for ele in row:\n",
    "                para.extend(reduce(adder, map(word_tokenize,ele), []))\n",
    "                para.append('\\n')\n",
    "                \n",
    "            sentence_dict[srcid] = para\n",
    "            \n",
    "            char_sentence_dict[srcid] = list(reduce(adder, para, ''))\n",
    "        with open(\"metadata/%s_sentence_dict_%s.json\" % (buildingName, tokenType.lower()), \"w\") as fp:\n",
    "            json.dump(sentence_dict, fp, indent=2, separators=(',',':'))\n",
    "        with open(\"metadata/%s_char_sentence_dict_%s.json\" % (buildingName, tokenType.lower()), \"w\") as fp:\n",
    "            json.dump(char_sentence_dict, fp, indent=2, separators=(',',':'))"
   ]
  },
  {
   "cell_type": "code",
   "execution_count": 26,
   "metadata": {
    "collapsed": false
   },
   "outputs": [
    {
     "name": "stdout",
     "output_type": "stream",
     "text": [
      "Finished!!!\n"
     ]
    },
    {
     "data": {
      "text/html": [
       "\n",
       "                <audio controls=\"controls\" autoplay=\"autoplay\">\n",
       "                    <source src=\"etc/fins_success.wav\" type=\"audio/x-wav\" />\n",
       "                    Your browser does not support the audio element.\n",
       "                </audio>\n",
       "              "
      ],
      "text/plain": [
       "<IPython.lib.display.Audio object>"
      ]
     },
     "execution_count": 26,
     "metadata": {},
     "output_type": "execute_result"
    }
   ],
   "source": [
    "print(\"Finished!!!\")\n",
    "sound_file = 'etc/fins_success.wav'\n",
    "Audio(url=sound_file, autoplay=True)"
   ]
  }
 ],
 "metadata": {
  "anaconda-cloud": {},
  "kernelspec": {
   "display_name": "Python 3",
   "language": "python",
   "name": "python3"
  },
  "language_info": {
   "codemirror_mode": {
    "name": "ipython",
    "version": 3
   },
   "file_extension": ".py",
   "mimetype": "text/x-python",
   "name": "python",
   "nbconvert_exporter": "python",
   "pygments_lexer": "ipython3",
   "version": "3.6.0"
  }
 },
 "nbformat": 4,
 "nbformat_minor": 1
}
